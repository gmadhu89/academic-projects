{
 "cells": [
  {
   "cell_type": "markdown",
   "id": "handy-fight",
   "metadata": {},
   "source": [
    "Question 15.2\n",
    "\n",
    "In the videos, we saw the “diet problem”. (The diet problem is one of the first large-scale optimization\n",
    "problems to be studied in practice. Back in the 1930’s and 40’s, the Army wanted to meet the nutritional\n",
    "requirements of its soldiers while minimizing the cost.) In this homework you get to solve a diet problem with real data. The data is given in the file diet.xls. \n",
    "\n",
    "1.\tFormulate an optimization model (a linear program) to find the cheapest diet that satisfies the maximum and minimum daily nutrition constraints, and solve it using PuLP.  Turn in your code and the solution. (The optimal solution should be a diet of air-popped popcorn, poached eggs, oranges, raw iceberg lettuce, raw celery, and frozen broccoli. UGH!)\n",
    "2.\tPlease add to your model the following constraints (which might require adding more variables) and solve the new model:\n",
    "a.\tIf a food is selected, then a minimum of 1/10 serving must be chosen. (Hint: now you will need two variables for each food i: whether it is chosen, and how much is part of the diet. You’ll also need to write a constraint to link them.)\n",
    "b.\tMany people dislike celery and frozen broccoli. So at most one, but not both, can be selected.\n",
    "c.\tTo get day-to-day variety in protein, at least 3 kinds of meat/poultry/fish/eggs must be selected. [If something is ambiguous (e.g., should bean-and-bacon soup be considered meat?), just call it whatever you think is appropriate – I want you to learn how to write this type of constraint, but I don’t really care whether we agree on how to classify foods!]\n",
    "\n",
    "If you want to see what a more full-sized problem would look like, try solving your models for the file diet_large.xls, which is a low-cholesterol diet model (rather than minimizing cost, the goal is to minimize cholesterol intake).  I don’t know anyone who’d want to eat this diet – the optimal solution includes dried chrysanthemum garland, raw beluga whale flipper, freeze-dried parsley, etc. – which shows why it’s necessary to add additional constraints beyond the basic ones we saw in the video!\n",
    "\t[Note: there are many optimal solutions, all with zero cholesterol, so you might get a different one.  It probably won’t be much more appetizing than mine.]\n",
    "\n"
   ]
  },
  {
   "cell_type": "markdown",
   "id": "informal-prescription",
   "metadata": {},
   "source": [
    "SOLUTION:\n",
    "    \n",
    "Firstly, lets install the Pulp package from python. Then, we will build a model to solve the first question to apply the basic minimum/maximum nutrient constraints to find an optimal dietary solution.\n",
    "\n",
    "Later, we will add specfic constraints as per the requirements in Question 2 to find the optimal solution"
   ]
  },
  {
   "cell_type": "code",
   "execution_count": 26,
   "id": "endangered-pocket",
   "metadata": {},
   "outputs": [],
   "source": [
    "#pip install pulp\n",
    "from pulp import *\n",
    "import pandas as pd"
   ]
  },
  {
   "cell_type": "markdown",
   "id": "authentic-stage",
   "metadata": {},
   "source": [
    "1) Formulate an optimization model (a linear program) to find the cheapest diet that satisfies the maximum and minimum daily nutrition constraints, and solve it using PuLP. Turn in your code and the solution. (The optimal solution should be a diet of air-popped popcorn, poached eggs, oranges, raw iceberg lettuce, raw celery, and frozen broccoli. UGH!)"
   ]
  },
  {
   "cell_type": "code",
   "execution_count": 27,
   "id": "solar-vector",
   "metadata": {},
   "outputs": [],
   "source": [
    "# Reading the data from the input excel file\n",
    "data = pd.read_excel(\"diet.xls\")\n",
    "\n",
    "# The last 3 rows contain blank, minimum and maximum limits to each of the food nutritens which can be exlcuded \n",
    "food_data = data[0:64]\n",
    "\n",
    "# Creating a list of all the food available\n",
    "food_list = food_data.values.tolist()\n",
    "\n",
    "# Creating a list for food names for further use in the optimization model\n",
    "food_names = [x[0] for x in food_list]\n",
    "\n",
    "# Creating a dictionary to hold food names along with the other nutrients in the data set for further processing\n",
    "food_costs = dict([(x[0], float(x[1])) for x in food_list])\n",
    "food_cals = dict([(x[0], float(x[3])) for x in food_list])\n",
    "food_serving = dict([(x[0], x[2]) for x in food_list])\n",
    "food_choles = dict([(x[0], float(x[4])) for x in food_list])\n",
    "food_totfat = dict([(x[0], float(x[5])) for x in food_list])\n",
    "food_sodium = dict([(x[0], float(x[6])) for x in food_list])\n",
    "food_carbs = dict([(x[0], float(x[7])) for x in food_list])\n",
    "food_fiber = dict([(x[0], float(x[8])) for x in food_list])\n",
    "food_protein = dict([(x[0], float(x[9])) for x in food_list])\n",
    "food_vitA = dict([(x[0], float(x[10])) for x in food_list])\n",
    "food_vitC = dict([(x[0], float(x[11])) for x in food_list])\n",
    "food_calcium = dict([(x[0], float(x[12])) for x in food_list])\n",
    "food_iron = dict([(x[0], float(x[13])) for x in food_list])\n",
    "\n",
    "################################  BUILDING THE OPTIMIZATION MODEL ###############################\n",
    "## Defining the optimization problem with a name and mentioning if it is maximizing or minimizing\n",
    "opt_problem = LpProblem(\"Diet_Problem\",LpMinimize)\n",
    "\n",
    "## Defining the primary variables for the optimization model with a natural lower bound of 0\n",
    "amount_var = LpVariable.dicts(\"Amounts\",food_names, 0)\n",
    "\n",
    "## Adding the objective function\n",
    "opt_problem += lpSum([food_costs[i] * amount_var[i] for i in food_names]), 'total_cost'\n",
    "\n",
    "## Add THE MINIMUM/ Maximum daily nutrient constains to the model to check the optimal diet solution\n",
    "#Calories\n",
    "opt_problem += lpSum([food_cals[i] * amount_var[i] for i in food_names]) >= 1500, 'min_cals'\n",
    "opt_problem += lpSum([food_cals[i] * amount_var[i] for i in food_names]) <= 2500, 'max_cals'\n",
    "#Cholestrol\n",
    "opt_problem += lpSum([food_choles[i] * amount_var[i] for i in food_names]) >= 30, 'min_chol'\n",
    "opt_problem += lpSum([food_choles[i] * amount_var[i] for i in food_names]) <= 240, 'max_chol'\n",
    "#Total Fat\n",
    "opt_problem += lpSum([food_totfat[i] * amount_var[i] for i in food_names]) >= 20, 'min_fat'\n",
    "opt_problem += lpSum([food_totfat[i] * amount_var[i] for i in food_names]) <= 70, 'max_fat'\n",
    "#Sodium\n",
    "opt_problem += lpSum([food_sodium[i] * amount_var[i] for i in food_names]) >= 800, 'min_sodium'\n",
    "opt_problem += lpSum([food_sodium[i] * amount_var[i] for i in food_names]) <= 2000, 'max_sodium'\n",
    "#Carbohydrates\n",
    "opt_problem += lpSum([food_carbs[i] * amount_var[i] for i in food_names]) >= 130, 'min_carbs'\n",
    "opt_problem += lpSum([food_carbs[i] * amount_var[i] for i in food_names]) <= 450, 'max_carbs'\n",
    "#Fiber\n",
    "opt_problem += lpSum([food_fiber[i] * amount_var[i] for i in food_names]) >= 125, 'min_fiber'\n",
    "opt_problem += lpSum([food_fiber[i] * amount_var[i] for i in food_names]) <= 250, 'max_fiber'\n",
    "#Protein\n",
    "opt_problem += lpSum([food_protein[i] * amount_var[i] for i in food_names]) >= 60, 'min_protein'\n",
    "opt_problem += lpSum([food_protein[i] * amount_var[i] for i in food_names]) <= 100, 'max_protein'\n",
    "#VitaminA\n",
    "opt_problem += lpSum([food_vitA[i] * amount_var[i] for i in food_names]) >= 1000, 'min_vitA'\n",
    "opt_problem += lpSum([food_vitA[i] * amount_var[i] for i in food_names]) <= 10000, 'max_vitA'\n",
    "#VitaminC\n",
    "opt_problem += lpSum([food_vitC[i] * amount_var[i] for i in food_names]) >= 400, 'min_vitC'\n",
    "opt_problem += lpSum([food_vitC[i] * amount_var[i] for i in food_names]) <= 5000, 'max_vitC'\n",
    "#Calcium\n",
    "opt_problem += lpSum([food_calcium[i] * amount_var[i] for i in food_names]) >= 700, 'min_calcium'\n",
    "opt_problem += lpSum([food_calcium[i] * amount_var[i] for i in food_names]) <= 1500, 'max_calcium'\n",
    "#Iron\n",
    "opt_problem += lpSum([food_iron[i] * amount_var[i] for i in food_names]) >= 10, 'min_iron'\n",
    "opt_problem += lpSum([food_iron[i] * amount_var[i] for i in food_names]) <= 40, 'max_iron'"
   ]
  },
  {
   "cell_type": "code",
   "execution_count": 29,
   "id": "stuffed-father",
   "metadata": {},
   "outputs": [
    {
     "data": {
      "text/plain": [
       "1"
      ]
     },
     "execution_count": 29,
     "metadata": {},
     "output_type": "execute_result"
    }
   ],
   "source": [
    "#### Solving the Optimizer\n",
    "opt_problem.solve()"
   ]
  },
  {
   "cell_type": "code",
   "execution_count": 31,
   "id": "controlled-volume",
   "metadata": {},
   "outputs": [
    {
     "name": "stdout",
     "output_type": "stream",
     "text": [
      "{'Amounts_2%_Lowfat_Milk': 0.0, 'Amounts_3.3%_Fat,Whole_Milk': 0.0, 'Amounts_Apple,Raw,W_Skin': 0.0, 'Amounts_Apple_Pie': 0.0, 'Amounts_Bagels': 0.0, 'Amounts_Banana': 0.0, 'Amounts_Beanbacn_Soup,W_Watr': 0.0, 'Amounts_Bologna,Turkey': 0.0, 'Amounts_Butter,Regular': 0.0, \"Amounts_Cap'N_Crunch\": 0.0, 'Amounts_Carrots,Raw': 0.0, 'Amounts_Celery,_Raw': 52.64371, 'Amounts_Cheddar_Cheese': 0.0, 'Amounts_Cheerios': 0.0, 'Amounts_Chicknoodl_Soup': 0.0, 'Amounts_Chocolate_Chip_Cookies': 0.0, \"Amounts_Corn_Flks,_Kellogg'S\": 0.0, 'Amounts_Couscous': 0.0, 'Amounts_Crm_Mshrm_Soup,W_Mlk': 0.0, 'Amounts_Frankfurter,_Beef': 0.0, 'Amounts_Frozen_Broccoli': 0.25960653, 'Amounts_Frozen_Corn': 0.0, 'Amounts_Grapes': 0.0, 'Amounts_Ham,Sliced,Extralean': 0.0, 'Amounts_Hamburger_W_Toppings': 0.0, 'Amounts_Hotdog,_Plain': 0.0, 'Amounts_Kielbasa,Prk': 0.0, 'Amounts_Kiwifruit,Raw,Fresh': 0.0, 'Amounts_Lettuce,Iceberg,Raw': 63.988506, 'Amounts_Macaroni,Ckd': 0.0, 'Amounts_Malt_O_Meal,Choc': 0.0, 'Amounts_New_E_Clamchwd,W_Mlk': 0.0, 'Amounts_Neweng_Clamchwd': 0.0, 'Amounts_Oatmeal': 0.0, 'Amounts_Oatmeal_Cookies': 0.0, 'Amounts_Oranges': 2.2929389, 'Amounts_Peanut_Butter': 0.0, 'Amounts_Peppers,_Sweet,_Raw': 0.0, 'Amounts_Pizza_W_Pepperoni': 0.0, 'Amounts_Poached_Eggs': 0.14184397, 'Amounts_Popcorn,Air_Popped': 13.869322, 'Amounts_Pork': 0.0, 'Amounts_Potato_Chips,Bbqflvr': 0.0, 'Amounts_Potatoes,_Baked': 0.0, 'Amounts_Pretzels': 0.0, \"Amounts_Raisin_Brn,_Kellg'S\": 0.0, 'Amounts_Rice_Krispies': 0.0, 'Amounts_Roasted_Chicken': 0.0, 'Amounts_Sardines_in_Oil': 0.0, 'Amounts_Scrambled_Eggs': 0.0, 'Amounts_Skim_Milk': 0.0, 'Amounts_Spaghetti_W__Sauce': 0.0, 'Amounts_Special_K': 0.0, 'Amounts_Splt_Pea&Hamsoup': 0.0, 'Amounts_Taco': 0.0, 'Amounts_Tofu': 0.0, 'Amounts_Tomato,Red,Ripe,Raw': 0.0, 'Amounts_Tomato_Soup': 0.0, 'Amounts_Tortilla_Chip': 0.0, 'Amounts_Vegetbeef_Soup': 0.0, 'Amounts_Wheat_Bread': 0.0, 'Amounts_White_Bread': 0.0, 'Amounts_White_Rice': 0.0, 'Amounts_White_Tuna_in_Water': 0.0}\n"
     ]
    }
   ],
   "source": [
    "#Viewing the optimal solution with this model\n",
    "varsDictionary = {}\n",
    "\n",
    "for v in opt_problem.variables():\n",
    "    varsDictionary[v.name] = v.varValue\n",
    "    \n",
    "print(varsDictionary)"
   ]
  },
  {
   "cell_type": "markdown",
   "id": "studied-stuart",
   "metadata": {},
   "source": [
    "We observe that the optimal solution is the same as provided in the question. The optimal diet pattern would be\n",
    "\n",
    "Celery,_Raw  (52.64371 servings)\n",
    "Frozen_Broccoli  (0.25960653 servings)\n",
    "Lettuce,Iceberg,Raw  (63.988506 servings)\n",
    "Oranges (2.2929389 servings)\n",
    "Poached_Eggs (0.14184397 servings)\n",
    "Popcorn,Air_Popped (13.869322 servings)"
   ]
  },
  {
   "cell_type": "markdown",
   "id": "increasing-produce",
   "metadata": {},
   "source": [
    "2) Please add to your model the following constraints (which might require adding more variables) and solve the new model: a. If a food is selected, then a minimum of 1/10 serving must be chosen. (Hint: now you will need two variables for each food i: whether it is chosen, and how much is part of the diet. You’ll also need to write a constraint to link them.) b. Many people dislike celery and frozen broccoli. So at most one, but not both, can be selected. c. To get day-to-day variety in protein, at least 3 kinds of meat/poultry/fish/eggs must be selected. [If something is ambiguous (e.g., should bean-and-bacon soup be considered meat?), just call it whatever you think is appropriate – I want you to learn how to write this type of constraint, but I don’t really care whether we agree on how to classify foods!]"
   ]
  },
  {
   "cell_type": "code",
   "execution_count": 46,
   "id": "annoying-namibia",
   "metadata": {},
   "outputs": [],
   "source": [
    "# We already have as a variable for food names for further use in the optimization model\n",
    "food_names = [x[0] for x in food_list]\n",
    "\n",
    "# Creating a dictionary to hold food names along with the other nutrients in the data set for further processing\n",
    "food_costs = dict([(x[0], float(x[1])) for x in food_list])\n",
    "food_cals = dict([(x[0], float(x[3])) for x in food_list])\n",
    "food_serving = dict([(x[0], x[2]) for x in food_list])\n",
    "food_choles = dict([(x[0], float(x[4])) for x in food_list])\n",
    "food_totfat = dict([(x[0], float(x[5])) for x in food_list])\n",
    "food_sodium = dict([(x[0], float(x[6])) for x in food_list])\n",
    "food_carbs = dict([(x[0], float(x[7])) for x in food_list])\n",
    "food_fiber = dict([(x[0], float(x[8])) for x in food_list])\n",
    "food_protein = dict([(x[0], float(x[9])) for x in food_list])\n",
    "food_vitA = dict([(x[0], float(x[10])) for x in food_list])\n",
    "food_vitC = dict([(x[0], float(x[11])) for x in food_list])\n",
    "food_calcium = dict([(x[0], float(x[12])) for x in food_list])\n",
    "food_iron = dict([(x[0], float(x[13])) for x in food_list])\n",
    "\n",
    "################################  BUILDING THE OPTIMIZATION MODEL ###############################\n",
    "## Defining the optimization problem with a name and mentioning if it is maximizing or minimizing\n",
    "opt_problem2 = LpProblem(\"Diet_Problem\",LpMinimize)\n",
    "\n",
    "## Defining the primary variables for the optimization model with a natural lower bound of 0\n",
    "amount_var = LpVariable.dicts(\"Amounts\",food_names, 0)\n",
    "\n",
    "# Let's create a binary variable that will indicate if a particular food was used in the diet or not.\n",
    "binaryVars = LpVariable.dicts(\"ChosenYOrN\", food_names,0,1, LpBinary)\n",
    "\n",
    "## Adding the objective function\n",
    "opt_problem2 += lpSum([food_costs[i] * amount_var[i] for i in food_names]), 'total_cost'\n",
    "\n",
    "## Add THE MINIMUM/ Maximum daily nutrient constains to the model to check the optimal diet solution (basic constraints)\n",
    "#Calories\n",
    "opt_problem2 += lpSum([food_cals[i] * amount_var[i] for i in food_names]) >= 1500, 'min_cals'\n",
    "opt_problem2 += lpSum([food_cals[i] * amount_var[i] for i in food_names]) <= 2500, 'max_cals'\n",
    "#Cholestrol\n",
    "opt_problem2 += lpSum([food_choles[i] * amount_var[i] for i in food_names]) >= 30, 'min_chol'\n",
    "opt_problem2 += lpSum([food_choles[i] * amount_var[i] for i in food_names]) <= 240, 'max_chol'\n",
    "#Total Fat\n",
    "opt_problem2 += lpSum([food_totfat[i] * amount_var[i] for i in food_names]) >= 20, 'min_fat'\n",
    "opt_problem2 += lpSum([food_totfat[i] * amount_var[i] for i in food_names]) <= 70, 'max_fat'\n",
    "#Sodium\n",
    "opt_problem2 += lpSum([food_sodium[i] * amount_var[i] for i in food_names]) >= 800, 'min_sodium'\n",
    "opt_problem2 += lpSum([food_sodium[i] * amount_var[i] for i in food_names]) <= 2000, 'max_sodium'\n",
    "#Carbohydrates\n",
    "opt_problem2 += lpSum([food_carbs[i] * amount_var[i] for i in food_names]) >= 130, 'min_carbs'\n",
    "opt_problem2 += lpSum([food_carbs[i] * amount_var[i] for i in food_names]) <= 450, 'max_carbs'\n",
    "#Fiber\n",
    "opt_problem2 += lpSum([food_fiber[i] * amount_var[i] for i in food_names]) >= 125, 'min_fiber'\n",
    "opt_problem2 += lpSum([food_fiber[i] * amount_var[i] for i in food_names]) <= 250, 'max_fiber'\n",
    "#Protein\n",
    "opt_problem2 += lpSum([food_protein[i] * amount_var[i] for i in food_names]) >= 60, 'min_protein'\n",
    "opt_problem2 += lpSum([food_protein[i] * amount_var[i] for i in food_names]) <= 100, 'max_protein'\n",
    "#VitaminA\n",
    "opt_problem2 += lpSum([food_vitA[i] * amount_var[i] for i in food_names]) >= 1000, 'min_vitA'\n",
    "opt_problem2 += lpSum([food_vitA[i] * amount_var[i] for i in food_names]) <= 10000, 'max_vitA'\n",
    "#VitaminC\n",
    "opt_problem2 += lpSum([food_vitC[i] * amount_var[i] for i in food_names]) >= 400, 'min_vitC'\n",
    "opt_problem2 += lpSum([food_vitC[i] * amount_var[i] for i in food_names]) <= 5000, 'max_vitC'\n",
    "#Calcium\n",
    "opt_problem2 += lpSum([food_calcium[i] * amount_var[i] for i in food_names]) >= 700, 'min_calcium'\n",
    "opt_problem2 += lpSum([food_calcium[i] * amount_var[i] for i in food_names]) <= 1500, 'max_calcium'\n",
    "#Iron\n",
    "opt_problem2 += lpSum([food_iron[i] * amount_var[i] for i in food_names]) >= 10, 'min_iron'\n",
    "opt_problem2 += lpSum([food_iron[i] * amount_var[i] for i in food_names]) <= 40, 'max_iron'\n",
    "\n",
    "\n",
    "## Adding extra Constraints \n",
    "## a.\tIf a food is selected, then a minimum of 1/10 serving must be chosen. (Hint: now you will need two variables for each food i: whether it is chosen, and how much is part of the diet. You’ll also need to write a constraint to link them.)\n",
    "for f in food_names:\n",
    "    opt_problem2 += amount_var[f] <= 1000000 * binaryVars[f]\n",
    "    opt_problem2 += amount_var[f] >= 0.1 * binaryVars[f]\n",
    "    \n",
    "## b.\tMany people dislike celery and frozen broccoli. So at most one, but not both, can be selected.\n",
    "opt_problem2 += binaryVars['Celery, Raw'] + binaryVars['Frozen Broccoli'] <= 1, 'At most one, but not both'\n",
    "\n",
    "## c.\tTo get day-to-day variety in protein, at least 3 kinds of meat/poultry/fish/eggs must be selected. [If something is ambiguous (e.g., should bean-and-bacon soup be considered meat?), just call it whatever you think is appropriate – I want you to learn how to write this type of constraint, but I don’t really care whether we agree on how to classify foods!]\n",
    "opt_problem2 += binaryVars['Roasted Chicken'] + binaryVars['Poached Eggs'] + binaryVars['Scrambled Eggs']+ \\\n",
    "binaryVars['Bologna,Turkey']+ binaryVars['Frankfurter, Beef'] + binaryVars['Ham,Sliced,Extralean']+ \\\n",
    "binaryVars['Kielbasa,Prk']+binaryVars['Pizza W/Pepperoni']+binaryVars['Pork'] + binaryVars['White Tuna in Water'] \\\n",
    "+binaryVars['Chicknoodl Soup'] + binaryVars['Splt Pea&Hamsoup'] + binaryVars['Vegetbeef Soup'] >= 3 , 'At least 3 proteins'"
   ]
  },
  {
   "cell_type": "code",
   "execution_count": 49,
   "id": "racial-moisture",
   "metadata": {},
   "outputs": [
    {
     "data": {
      "text/plain": [
       "1"
      ]
     },
     "execution_count": 49,
     "metadata": {},
     "output_type": "execute_result"
    }
   ],
   "source": [
    "## Solving the optimizer\n",
    "opt_problem2.solve()"
   ]
  },
  {
   "cell_type": "code",
   "execution_count": 50,
   "id": "foreign-intellectual",
   "metadata": {},
   "outputs": [
    {
     "name": "stdout",
     "output_type": "stream",
     "text": [
      "{'Amounts_2%_Lowfat_Milk': 0.0, 'Amounts_3.3%_Fat,Whole_Milk': 0.0, 'Amounts_Apple,Raw,W_Skin': 0.0, 'Amounts_Apple_Pie': 0.0, 'Amounts_Bagels': 0.0, 'Amounts_Banana': 0.0, 'Amounts_Beanbacn_Soup,W_Watr': 0.0, 'Amounts_Bologna,Turkey': 0.0, 'Amounts_Butter,Regular': 0.0, \"Amounts_Cap'N_Crunch\": 0.0, 'Amounts_Carrots,Raw': 0.0, 'Amounts_Celery,_Raw': 42.399358, 'Amounts_Cheddar_Cheese': 0.0, 'Amounts_Cheerios': 0.0, 'Amounts_Chicknoodl_Soup': 0.0, 'Amounts_Chocolate_Chip_Cookies': 0.0, \"Amounts_Corn_Flks,_Kellogg'S\": 0.0, 'Amounts_Couscous': 0.0, 'Amounts_Crm_Mshrm_Soup,W_Mlk': 0.0, 'Amounts_Frankfurter,_Beef': 0.0, 'Amounts_Frozen_Broccoli': 0.0, 'Amounts_Frozen_Corn': 0.0, 'Amounts_Grapes': 0.0, 'Amounts_Ham,Sliced,Extralean': 0.0, 'Amounts_Hamburger_W_Toppings': 0.0, 'Amounts_Hotdog,_Plain': 0.0, 'Amounts_Kielbasa,Prk': 0.1, 'Amounts_Kiwifruit,Raw,Fresh': 0.0, 'Amounts_Lettuce,Iceberg,Raw': 82.802586, 'Amounts_Macaroni,Ckd': 0.0, 'Amounts_Malt_O_Meal,Choc': 0.0, 'Amounts_New_E_Clamchwd,W_Mlk': 0.0, 'Amounts_Neweng_Clamchwd': 0.0, 'Amounts_Oatmeal': 0.0, 'Amounts_Oatmeal_Cookies': 0.0, 'Amounts_Oranges': 3.0771841, 'Amounts_Peanut_Butter': 1.9429716, 'Amounts_Peppers,_Sweet,_Raw': 0.0, 'Amounts_Pizza_W_Pepperoni': 0.0, 'Amounts_Poached_Eggs': 0.1, 'Amounts_Popcorn,Air_Popped': 13.223294, 'Amounts_Pork': 0.0, 'Amounts_Potato_Chips,Bbqflvr': 0.0, 'Amounts_Potatoes,_Baked': 0.0, 'Amounts_Pretzels': 0.0, \"Amounts_Raisin_Brn,_Kellg'S\": 0.0, 'Amounts_Rice_Krispies': 0.0, 'Amounts_Roasted_Chicken': 0.0, 'Amounts_Sardines_in_Oil': 0.0, 'Amounts_Scrambled_Eggs': 0.1, 'Amounts_Skim_Milk': 0.0, 'Amounts_Spaghetti_W__Sauce': 0.0, 'Amounts_Special_K': 0.0, 'Amounts_Splt_Pea&Hamsoup': 0.0, 'Amounts_Taco': 0.0, 'Amounts_Tofu': 0.0, 'Amounts_Tomato,Red,Ripe,Raw': 0.0, 'Amounts_Tomato_Soup': 0.0, 'Amounts_Tortilla_Chip': 0.0, 'Amounts_Vegetbeef_Soup': 0.0, 'Amounts_Wheat_Bread': 0.0, 'Amounts_White_Bread': 0.0, 'Amounts_White_Rice': 0.0, 'Amounts_White_Tuna_in_Water': 0.0, 'ChosenYOrN_2%_Lowfat_Milk': 0.0, 'ChosenYOrN_3.3%_Fat,Whole_Milk': 0.0, 'ChosenYOrN_Apple,Raw,W_Skin': 0.0, 'ChosenYOrN_Apple_Pie': 0.0, 'ChosenYOrN_Bagels': 0.0, 'ChosenYOrN_Banana': 0.0, 'ChosenYOrN_Beanbacn_Soup,W_Watr': 0.0, 'ChosenYOrN_Bologna,Turkey': 0.0, 'ChosenYOrN_Butter,Regular': 0.0, \"ChosenYOrN_Cap'N_Crunch\": 0.0, 'ChosenYOrN_Carrots,Raw': 0.0, 'ChosenYOrN_Celery,_Raw': 1.0, 'ChosenYOrN_Cheddar_Cheese': 0.0, 'ChosenYOrN_Cheerios': 0.0, 'ChosenYOrN_Chicknoodl_Soup': 0.0, 'ChosenYOrN_Chocolate_Chip_Cookies': 0.0, \"ChosenYOrN_Corn_Flks,_Kellogg'S\": 0.0, 'ChosenYOrN_Couscous': 0.0, 'ChosenYOrN_Crm_Mshrm_Soup,W_Mlk': 0.0, 'ChosenYOrN_Frankfurter,_Beef': 0.0, 'ChosenYOrN_Frozen_Broccoli': 0.0, 'ChosenYOrN_Frozen_Corn': 0.0, 'ChosenYOrN_Grapes': 0.0, 'ChosenYOrN_Ham,Sliced,Extralean': 0.0, 'ChosenYOrN_Hamburger_W_Toppings': 0.0, 'ChosenYOrN_Hotdog,_Plain': 0.0, 'ChosenYOrN_Kielbasa,Prk': 1.0, 'ChosenYOrN_Kiwifruit,Raw,Fresh': 0.0, 'ChosenYOrN_Lettuce,Iceberg,Raw': 1.0, 'ChosenYOrN_Macaroni,Ckd': 0.0, 'ChosenYOrN_Malt_O_Meal,Choc': 0.0, 'ChosenYOrN_New_E_Clamchwd,W_Mlk': 0.0, 'ChosenYOrN_Neweng_Clamchwd': 0.0, 'ChosenYOrN_Oatmeal': 0.0, 'ChosenYOrN_Oatmeal_Cookies': 0.0, 'ChosenYOrN_Oranges': 1.0, 'ChosenYOrN_Peanut_Butter': 1.0, 'ChosenYOrN_Peppers,_Sweet,_Raw': 0.0, 'ChosenYOrN_Pizza_W_Pepperoni': 0.0, 'ChosenYOrN_Poached_Eggs': 1.0, 'ChosenYOrN_Popcorn,Air_Popped': 1.0, 'ChosenYOrN_Pork': 0.0, 'ChosenYOrN_Potato_Chips,Bbqflvr': 0.0, 'ChosenYOrN_Potatoes,_Baked': 0.0, 'ChosenYOrN_Pretzels': 0.0, \"ChosenYOrN_Raisin_Brn,_Kellg'S\": 0.0, 'ChosenYOrN_Rice_Krispies': 0.0, 'ChosenYOrN_Roasted_Chicken': 0.0, 'ChosenYOrN_Sardines_in_Oil': 0.0, 'ChosenYOrN_Scrambled_Eggs': 1.0, 'ChosenYOrN_Skim_Milk': 0.0, 'ChosenYOrN_Spaghetti_W__Sauce': 0.0, 'ChosenYOrN_Special_K': 0.0, 'ChosenYOrN_Splt_Pea&Hamsoup': 0.0, 'ChosenYOrN_Taco': 0.0, 'ChosenYOrN_Tofu': 0.0, 'ChosenYOrN_Tomato,Red,Ripe,Raw': 0.0, 'ChosenYOrN_Tomato_Soup': 0.0, 'ChosenYOrN_Tortilla_Chip': 0.0, 'ChosenYOrN_Vegetbeef_Soup': 0.0, 'ChosenYOrN_Wheat_Bread': 0.0, 'ChosenYOrN_White_Bread': 0.0, 'ChosenYOrN_White_Rice': 0.0, 'ChosenYOrN_White_Tuna_in_Water': 0.0}\n"
     ]
    }
   ],
   "source": [
    "#Viewing the optimal solution with this model\n",
    "varsDictionary2 = {}\n",
    "\n",
    "for v in opt_problem2.variables():\n",
    "    varsDictionary2[v.name] = v.varValue\n",
    "    \n",
    "print(varsDictionary2)"
   ]
  },
  {
   "cell_type": "markdown",
   "id": "corrected-hotel",
   "metadata": {},
   "source": [
    "The optimal diet after adding these constraints is below. We see that we have only Celery and Not Brocolli , which\n",
    "is according to the constraints we have given. All chosen food have atleast 0.1 of the servings too.\n",
    "\n",
    "Celery,_Raw (42.399358)\n",
    "Kielbasa,Prk (0.1)\n",
    "Lettuce,Iceberg,Raw (82.802586)\n",
    "Oranges (3.0771841)\n",
    "Peanut_Butter (1.9429716)\n",
    "Poached_Eggs (0.1)\n",
    "Popcorn,Air_Popped (13.223294)\n",
    "Scrambled_Eggs  (0.1)"
   ]
  },
  {
   "cell_type": "code",
   "execution_count": null,
   "id": "experimental-kelly",
   "metadata": {},
   "outputs": [],
   "source": []
  }
 ],
 "metadata": {
  "kernelspec": {
   "display_name": "Python 3",
   "language": "python",
   "name": "python3"
  },
  "language_info": {
   "codemirror_mode": {
    "name": "ipython",
    "version": 3
   },
   "file_extension": ".py",
   "mimetype": "text/x-python",
   "name": "python",
   "nbconvert_exporter": "python",
   "pygments_lexer": "ipython3",
   "version": "3.7.8"
  }
 },
 "nbformat": 4,
 "nbformat_minor": 5
}
