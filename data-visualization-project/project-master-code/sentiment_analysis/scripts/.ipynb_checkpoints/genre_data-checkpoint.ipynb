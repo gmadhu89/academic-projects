{
 "cells": [
  {
   "cell_type": "code",
   "execution_count": 1,
   "metadata": {},
   "outputs": [],
   "source": [
    "import pandas as pd"
   ]
  },
  {
   "cell_type": "code",
   "execution_count": 2,
   "metadata": {},
   "outputs": [],
   "source": [
    "steam_data = pd.read_csv(\"../data/steam_data_final.csv\")\n",
    "steam_review = pd.read_csv(\"../output/sentiment_data.csv\")"
   ]
  },
  {
   "cell_type": "markdown",
   "metadata": {},
   "source": [
    "#### Getting a list of steam ids for the data that we have:"
   ]
  },
  {
   "cell_type": "code",
   "execution_count": 3,
   "metadata": {},
   "outputs": [],
   "source": [
    "steam_app_ids = steam_data['steam_appid'].tolist()\n",
    "steam_app_ids = list(set(steam_app_ids))"
   ]
  },
  {
   "cell_type": "markdown",
   "metadata": {},
   "source": [
    "#### Removing rows depending on the app id:"
   ]
  },
  {
   "cell_type": "code",
   "execution_count": 4,
   "metadata": {},
   "outputs": [],
   "source": [
    "flt_review = steam_review[steam_review.app_id.isin(steam_app_ids)]"
   ]
  },
  {
   "cell_type": "markdown",
   "metadata": {},
   "source": [
    "#### Getting sentiment count for each game:"
   ]
  },
  {
   "cell_type": "code",
   "execution_count": 5,
   "metadata": {},
   "outputs": [],
   "source": [
    "sentiment_count = pd.DataFrame({'count' : flt_review.groupby( [ \"app_id\", \"app_name\",\"sentiment\"] ).size()}).reset_index()"
   ]
  },
  {
   "cell_type": "markdown",
   "metadata": {},
   "source": [
    "#### Saving data"
   ]
  },
  {
   "cell_type": "code",
   "execution_count": 6,
   "metadata": {},
   "outputs": [],
   "source": [
    "#flt_review.to_csv(\"../output/filtered_review_data.txt\",sep=\"\\t\", index=False)\n",
    "sentiment_count.to_csv(\"../output/sentiment_count.txt\", sep=\"\\t\", index=False)"
   ]
  },
  {
   "cell_type": "markdown",
   "metadata": {},
   "source": [
    "#### Separating reviews based on different genres"
   ]
  },
  {
   "cell_type": "code",
   "execution_count": 7,
   "metadata": {},
   "outputs": [],
   "source": [
    "genre_data = steam_data[['steam_appid','genre']].drop_duplicates()\n",
    "genre_data.rename(columns={\"steam_appid\": \"app_id\"}, inplace=True)"
   ]
  },
  {
   "cell_type": "code",
   "execution_count": 8,
   "metadata": {},
   "outputs": [],
   "source": [
    "genre_review = pd.merge(flt_review, genre_data, how=\"left\", on=\"app_id\")"
   ]
  },
  {
   "cell_type": "code",
   "execution_count": 9,
   "metadata": {},
   "outputs": [],
   "source": [
    "genre_review = genre_review.assign(genre_type=genre_review['genre'].str.split(',')).explode('genre_type')"
   ]
  },
  {
   "cell_type": "code",
   "execution_count": 10,
   "metadata": {},
   "outputs": [],
   "source": [
    "#genre_review.to_csv(\"../output/filtered_review_data.txt\",sep=\"\\t\", index=False)"
   ]
  },
  {
   "cell_type": "code",
   "execution_count": 11,
   "metadata": {},
   "outputs": [],
   "source": [
    "genre_count = pd.DataFrame({'count' : genre_review.groupby( [ \"genre_type\",] ).size()}).reset_index()"
   ]
  },
  {
   "cell_type": "code",
   "execution_count": 12,
   "metadata": {},
   "outputs": [],
   "source": [
    "genre_count.to_csv(\"../output/genre_count.txt\", sep=\"\\t\", index=False)"
   ]
  },
  {
   "cell_type": "code",
   "execution_count": 13,
   "metadata": {},
   "outputs": [],
   "source": [
    "genre_gamereview_counts = pd.DataFrame({'count' : genre_review.groupby( [ \"app_id\",\"app_name\",\"genre_type\",\"sentiment\"] ).size()}).reset_index()"
   ]
  },
  {
   "cell_type": "code",
   "execution_count": 14,
   "metadata": {},
   "outputs": [],
   "source": [
    "genre_review_counts = pd.DataFrame({'count' : genre_review.groupby( [ \"genre_type\",\"sentiment\"] ).size()}).reset_index()"
   ]
  },
  {
   "cell_type": "code",
   "execution_count": 15,
   "metadata": {},
   "outputs": [],
   "source": [
    "#genre_review_counts.to_csv(\"../output/genre_review_counts.txt\", sep=\"\\t\", header=False)\n",
    "#genre_gamereview_counts.to_csv(\"../output/game_genre_sent_count.txt\", sep=\"\\t\", header=False)"
   ]
  },
  {
   "cell_type": "markdown",
   "metadata": {},
   "source": [
    "#### Creating different dataframes for all genres"
   ]
  },
  {
   "cell_type": "code",
   "execution_count": 16,
   "metadata": {},
   "outputs": [
    {
     "data": {
      "text/plain": [
       "Index(['app_id', 'app_name', 'review_id', 'language', 'review', 'recommended',\n",
       "       'votes_helpful', 'votes_funny', 'weighted_vote_score', 'comment_count',\n",
       "       'steam_purchase', 'received_for_free', 'written_during_early_access',\n",
       "       'sentiment', 'genre', 'genre_type'],\n",
       "      dtype='object')"
      ]
     },
     "execution_count": 16,
     "metadata": {},
     "output_type": "execute_result"
    }
   ],
   "source": [
    "genre_review.columns"
   ]
  },
  {
   "cell_type": "code",
   "execution_count": 17,
   "metadata": {},
   "outputs": [],
   "source": [
    "def clean_genre_name(row):\n",
    "    genre_name = row.lstrip().rstrip()   \n",
    "    return genre_name"
   ]
  },
  {
   "cell_type": "code",
   "execution_count": 18,
   "metadata": {},
   "outputs": [],
   "source": [
    "genre_review = genre_review[['app_id', 'app_name', 'review_id', 'language', 'review', 'recommended',\n",
    "       'votes_helpful', 'votes_funny', 'weighted_vote_score','sentiment', 'genre', 'genre_type']]"
   ]
  },
  {
   "cell_type": "code",
   "execution_count": 19,
   "metadata": {},
   "outputs": [],
   "source": [
    "genre_review['genre_type'] = genre_review['genre_type'].apply(clean_genre_name)"
   ]
  },
  {
   "cell_type": "code",
   "execution_count": 20,
   "metadata": {},
   "outputs": [],
   "source": [
    "def create_genre_txt(main_df, file_name, genre):\n",
    "    \n",
    "    df = main_df[main_df['genre_type'] == str(genre)]\n",
    "    df.to_csv(\"../output/genre_data/\"+file_name, sep=\"\\t\", index=False)"
   ]
  },
  {
   "cell_type": "code",
   "execution_count": 21,
   "metadata": {},
   "outputs": [],
   "source": [
    "genres = genre_count['genre_type'].tolist()\n",
    "genres = list(set(genres))"
   ]
  },
  {
   "cell_type": "code",
   "execution_count": 23,
   "metadata": {},
   "outputs": [
    {
     "name": "stdout",
     "output_type": "stream",
     "text": [
      "Massively_Multiplayer\n",
      "Adventure\n",
      "Indie\n",
      "Early_Access\n",
      "Sports\n",
      "Simulation\n",
      "Casual\n",
      "Free_to_Play\n",
      "Design_&_Illustration\n",
      "Photo_Editing\n",
      "Racing\n",
      "Utilities\n",
      "Massively_Multiplayer\n",
      "Action\n",
      "Strategy\n",
      "Casual\n",
      "Simulation\n",
      "RPG\n",
      "Adventure\n",
      "Strategy\n",
      "Racing\n",
      "Animation_&_Modeling\n",
      "RPG\n",
      "Indie\n"
     ]
    }
   ],
   "source": [
    "for genre in genres:\n",
    "    genre = genre.lstrip().rstrip()\n",
    "    genre = genre.replace(\" \", \"_\")\n",
    "    print(genre)\n",
    "    filename = str(genre)+\"_review.txt\"\n",
    "    create_genre_txt(genre_review,filename,genre)"
   ]
  }
 ],
 "metadata": {
  "kernelspec": {
   "display_name": "Python 3",
   "language": "python",
   "name": "python3"
  },
  "language_info": {
   "codemirror_mode": {
    "name": "ipython",
    "version": 3
   },
   "file_extension": ".py",
   "mimetype": "text/x-python",
   "name": "python",
   "nbconvert_exporter": "python",
   "pygments_lexer": "ipython3",
   "version": "3.7.3"
  }
 },
 "nbformat": 4,
 "nbformat_minor": 4
}
