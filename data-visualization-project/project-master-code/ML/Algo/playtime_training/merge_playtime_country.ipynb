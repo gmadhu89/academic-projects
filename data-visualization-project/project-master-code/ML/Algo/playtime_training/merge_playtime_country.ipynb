{
 "cells": [
  {
   "cell_type": "code",
   "execution_count": 1,
   "metadata": {},
   "outputs": [],
   "source": [
    "import pandas as pd"
   ]
  },
  {
   "cell_type": "code",
   "execution_count": 11,
   "metadata": {},
   "outputs": [],
   "source": [
    "header_list = ['user_id', 'game', 'action', 'time', '0']\n",
    "player_country = pd.read_csv('D:/PhD VIII/CSE 6242/Proj_6242/CSE-6242-Project/DB/player_country.csv')\n",
    "playtime = pd.read_csv('D:/PhD VIII/CSE 6242/Proj_6242/CSE-6242-Project/DB/steam-200k.csv',\n",
    "                       names = header_list)"
   ]
  },
  {
   "cell_type": "code",
   "execution_count": 12,
   "metadata": {},
   "outputs": [],
   "source": [
    "playtime = playtime[playtime['action']=='play'].drop(columns=['0'])"
   ]
  },
  {
   "cell_type": "code",
   "execution_count": 14,
   "metadata": {},
   "outputs": [],
   "source": [
    "merged_df = playtime.merge(player_country,\n",
    "               how='left',\n",
    "               on='user_id')"
   ]
  },
  {
   "cell_type": "code",
   "execution_count": 29,
   "metadata": {},
   "outputs": [],
   "source": [
    "final_df = merged_df[merged_df['country_code'].notnull()].drop(columns='steam_id')"
   ]
  },
  {
   "cell_type": "code",
   "execution_count": 31,
   "metadata": {},
   "outputs": [],
   "source": [
    "final_df.to_csv('D:/PhD VIII/CSE 6242/Proj_6242/CSE-6242-Project/DB/playtime_by_country.csv', index=False)"
   ]
  },
  {
   "cell_type": "code",
   "execution_count": null,
   "metadata": {},
   "outputs": [],
   "source": []
  }
 ],
 "metadata": {
  "kernelspec": {
   "display_name": "Python 3",
   "language": "python",
   "name": "python3"
  },
  "language_info": {
   "codemirror_mode": {
    "name": "ipython",
    "version": 3
   },
   "file_extension": ".py",
   "mimetype": "text/x-python",
   "name": "python",
   "nbconvert_exporter": "python",
   "pygments_lexer": "ipython3",
   "version": "3.7.3"
  }
 },
 "nbformat": 4,
 "nbformat_minor": 2
}
