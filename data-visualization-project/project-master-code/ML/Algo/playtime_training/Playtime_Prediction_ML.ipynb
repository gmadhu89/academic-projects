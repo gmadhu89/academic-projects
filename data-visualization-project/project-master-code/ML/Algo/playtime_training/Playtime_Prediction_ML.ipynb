{
 "cells": [
  {
   "cell_type": "code",
   "execution_count": 6,
   "metadata": {},
   "outputs": [],
   "source": [
    "import pandas as pd\n",
    "import numpy as np"
   ]
  },
  {
   "cell_type": "code",
   "execution_count": 7,
   "metadata": {},
   "outputs": [],
   "source": [
    "df = pd.read_csv('D:/PhD VIII/CSE 6242/Proj_6242/CSE-6242-Project/DB/playtime_pred/playtime_ML.csv')"
   ]
  },
  {
   "cell_type": "code",
   "execution_count": 8,
   "metadata": {},
   "outputs": [],
   "source": [
    "df.drop(columns=['country_code'], inplace=True)"
   ]
  },
  {
   "cell_type": "code",
   "execution_count": 4,
   "metadata": {},
   "outputs": [],
   "source": [
    "df = df[['Genre', 'ESRB_Rating', 'Platform', 'price', 'NA_playtime']]"
   ]
  },
  {
   "cell_type": "markdown",
   "metadata": {},
   "source": [
    "Process dataframe"
   ]
  },
  {
   "cell_type": "code",
   "execution_count": null,
   "metadata": {},
   "outputs": [],
   "source": [
    "X = df.iloc[:, :-1].values\n",
    "y = df.iloc[:, -1].values"
   ]
  },
  {
   "cell_type": "markdown",
   "metadata": {},
   "source": [
    "Filling na values"
   ]
  },
  {
   "cell_type": "code",
   "execution_count": null,
   "metadata": {},
   "outputs": [],
   "source": [
    "from sklearn.impute import SimpleImputer\n",
    "imputer = SimpleImputer(missing_values=np.nan, strategy='median')\n",
    "imputer.fit(X[:, 3:4])\n",
    "X[:, 3:4] = imputer.transform(X[:, 3:4])"
   ]
  },
  {
   "cell_type": "code",
   "execution_count": null,
   "metadata": {},
   "outputs": [],
   "source": [
    "print(X)"
   ]
  },
  {
   "cell_type": "markdown",
   "metadata": {},
   "source": [
    "Encoding categorical features"
   ]
  },
  {
   "cell_type": "code",
   "execution_count": null,
   "metadata": {},
   "outputs": [],
   "source": [
    "from sklearn.compose import ColumnTransformer\n",
    "from sklearn.preprocessing import OneHotEncoder\n",
    "ct = ColumnTransformer(transformers=[('encoder', OneHotEncoder(), [0, 1, 2])], remainder='passthrough')\n",
    "X = ct.fit_transform(X).toarray()"
   ]
  },
  {
   "cell_type": "markdown",
   "metadata": {},
   "source": [
    "Split training and testing sets"
   ]
  },
  {
   "cell_type": "code",
   "execution_count": null,
   "metadata": {},
   "outputs": [],
   "source": [
    "from sklearn.model_selection import train_test_split\n",
    "X_train, X_test, y_train, y_test = train_test_split(X, y, test_size=0.2, random_state=0)"
   ]
  },
  {
   "cell_type": "code",
   "execution_count": null,
   "metadata": {},
   "outputs": [],
   "source": []
  },
  {
   "cell_type": "markdown",
   "metadata": {},
   "source": [
    "Train Models"
   ]
  },
  {
   "cell_type": "markdown",
   "metadata": {},
   "source": [
    "Decision tree"
   ]
  },
  {
   "cell_type": "code",
   "execution_count": null,
   "metadata": {},
   "outputs": [],
   "source": [
    "from sklearn.tree import DecisionTreeRegressor\n",
    "dt_regressor = DecisionTreeRegressor(random_state=0)\n",
    "dt_regressor.fit(X, y)"
   ]
  },
  {
   "cell_type": "code",
   "execution_count": null,
   "metadata": {},
   "outputs": [],
   "source": [
    "y_pred = dt_regressor.predict(X_test)\n",
    "np.set_printoptions(precision=2)\n",
    "print(np.concatenate((y_pred.reshape(len(y_pred), 1), y_test.reshape(len(y_test), 1)), 1))"
   ]
  },
  {
   "cell_type": "code",
   "execution_count": null,
   "metadata": {},
   "outputs": [],
   "source": [
    "from sklearn.metrics import r2_score, mean_squared_error\n",
    "r2_score(y_test, y_pred)"
   ]
  },
  {
   "cell_type": "code",
   "execution_count": null,
   "metadata": {},
   "outputs": [],
   "source": [
    "from sklearn.model_selection import cross_val_score\n",
    "accurracies = cross_val_score(estimator=dt_regressor, X=X_train, y=y_train, cv=10)\n",
    "print(\"Accurracy: {:.2f} %\".format(accurracies.mean()*100))\n",
    "print(\"Standard Deviation: {:.2f} %\".format(accurracies.std()*100))"
   ]
  },
  {
   "cell_type": "markdown",
   "metadata": {},
   "source": [
    "Random forest"
   ]
  },
  {
   "cell_type": "code",
   "execution_count": null,
   "metadata": {},
   "outputs": [],
   "source": [
    "from sklearn.ensemble import RandomForestRegressor\n",
    "rf_regressor = RandomForestRegressor(n_estimators=10, random_state=0)\n",
    "rf_regressor.fit(X, y)"
   ]
  },
  {
   "cell_type": "code",
   "execution_count": null,
   "metadata": {},
   "outputs": [],
   "source": [
    "y_pred = rf_regressor.predict(X_test)\n",
    "np.set_printoptions(precision=2)\n",
    "print(np.concatenate((y_pred.reshape(len(y_pred), 1), y_test.reshape(len(y_test), 1)), 1))"
   ]
  },
  {
   "cell_type": "code",
   "execution_count": null,
   "metadata": {},
   "outputs": [],
   "source": [
    "r2_score(y_test, y_pred)"
   ]
  },
  {
   "cell_type": "code",
   "execution_count": null,
   "metadata": {},
   "outputs": [],
   "source": [
    "accurracies = cross_val_score(estimator=rf_regressor, X=X_train, y=y_train, cv=10)\n",
    "print(\"Accurracy: {:.2f} %\".format(accurracies.mean()*100))\n",
    "print(\"Standard Deviation: {:.2f} %\".format(accurracies.std()*100))"
   ]
  },
  {
   "cell_type": "code",
   "execution_count": null,
   "metadata": {},
   "outputs": [],
   "source": [
    "from sklearn.model_selection import GridSearchCV\n",
    "parameters = [{'n_estimators': [2, 4, 8, 16, 32, 64, 128, 256, 512]}]\n",
    "grid_search = GridSearchCV(estimator=rf_regressor,\n",
    "                           param_grid=parameters,\n",
    "                           scoring='r2',\n",
    "                           cv=10,\n",
    "                           n_jobs=-1)\n",
    "grid_search.fit(X_train, y_train)\n",
    "best_accuracy = grid_search.best_score_\n",
    "best_parameters = grid_search.best_params_\n",
    "print('Best Accuracy: {:.2f} %'.format(best_accuracy*100))\n",
    "print('Best Parameters:', best_parameters)"
   ]
  },
  {
   "cell_type": "markdown",
   "metadata": {},
   "source": [
    "XGBoost"
   ]
  },
  {
   "cell_type": "code",
   "execution_count": null,
   "metadata": {},
   "outputs": [],
   "source": [
    "from xgboost import XGBRFRegressor\n",
    "xg_regressor = XGBRFRegressor()\n",
    "xg_regressor.fit(X_train, y_train)"
   ]
  },
  {
   "cell_type": "code",
   "execution_count": null,
   "metadata": {},
   "outputs": [],
   "source": [
    "y_pred = xg_regressor.predict(X_test)\n",
    "np.set_printoptions(precision=2)"
   ]
  },
  {
   "cell_type": "code",
   "execution_count": null,
   "metadata": {},
   "outputs": [],
   "source": [
    "y_pred = xg_regressor.predict(X_test)\n",
    "np.set_printoptions(precision=2)\n",
    "print(np.concatenate((y_pred.reshape(len(y_pred), 1), y_test.reshape(len(y_test), 1)), 1))"
   ]
  },
  {
   "cell_type": "code",
   "execution_count": null,
   "metadata": {},
   "outputs": [],
   "source": [
    "r2_score(y_test, y_pred)"
   ]
  },
  {
   "cell_type": "code",
   "execution_count": null,
   "metadata": {},
   "outputs": [],
   "source": [
    "accurracies = cross_val_score(estimator=xg_regressor, X=X_train, y=y_train, cv=10)\n",
    "print(\"Accurracy: {:.2f} %\".format(accurracies.mean()*100))\n",
    "print(\"Standard Deviation: {:.2f} %\".format(accurracies.std()*100))"
   ]
  },
  {
   "cell_type": "code",
   "execution_count": null,
   "metadata": {},
   "outputs": [],
   "source": []
  },
  {
   "cell_type": "markdown",
   "metadata": {},
   "source": [
    "Make prediction for any game design"
   ]
  },
  {
   "cell_type": "code",
   "execution_count": null,
   "metadata": {},
   "outputs": [],
   "source": [
    "genre = 'Action-Adventure'\n",
    "rating = 'M'\n",
    "platform = 'X360'\n",
    "price = 1999.0\n",
    "design = [[genre, rating, platform, price]]\n",
    "X_ds = ct.transform(design).toarray()"
   ]
  },
  {
   "cell_type": "code",
   "execution_count": null,
   "metadata": {},
   "outputs": [],
   "source": [
    "from sklearn.ensemble import RandomForestRegressor\n",
    "rf_regressor = RandomForestRegressor(n_estimators=64, random_state=0)\n",
    "rf_regressor.fit(X, y)"
   ]
  },
  {
   "cell_type": "code",
   "execution_count": null,
   "metadata": {},
   "outputs": [],
   "source": []
  },
  {
   "cell_type": "markdown",
   "metadata": {},
   "source": [
    "Save the model to disk"
   ]
  },
  {
   "cell_type": "code",
   "execution_count": null,
   "metadata": {},
   "outputs": [],
   "source": [
    "import pickle\n",
    "filename = 'D:/PhD VIII/CSE 6242/Proj_6242/CSE-6242-Project/DB/playtime_pred/NA_playtime.sav'\n",
    "pickle.dump(rf_regressor, open(filename, 'wb'))"
   ]
  },
  {
   "cell_type": "code",
   "execution_count": null,
   "metadata": {},
   "outputs": [],
   "source": []
  },
  {
   "cell_type": "markdown",
   "metadata": {},
   "source": [
    "Load and reuse the model for prediction"
   ]
  },
  {
   "cell_type": "code",
   "execution_count": 18,
   "metadata": {},
   "outputs": [
    {
     "name": "stdout",
     "output_type": "stream",
     "text": [
      "The playtime for genre Action, rating E10, platform PC, and price 0.0 in North America is: 3.032075195716897\n"
     ]
    }
   ],
   "source": [
    "# load the model from disk\n",
    "import pickle\n",
    "filename = 'D:/PhD VIII/CSE 6242/Proj_6242/CSE-6242-Project/DB/playtime_pred/NA_playtime.sav'\n",
    "loaded_model = pickle.load(open(filename, 'rb'))\n",
    "\n",
    "\n",
    "import pandas as pd\n",
    "import numpy as np\n",
    "df = pd.read_csv('D:/PhD VIII/CSE 6242/Proj_6242/CSE-6242-Project/DB/playtime_pred/playtime_ML.csv')\n",
    "df.drop(columns=['country_code'], inplace=True)\n",
    "df = df[['Genre', 'ESRB_Rating', 'Platform', 'price', 'NA_playtime']]\n",
    "X = df.iloc[:, :-1].values\n",
    "\n",
    "\n",
    "from sklearn.compose import ColumnTransformer\n",
    "from sklearn.preprocessing import OneHotEncoder\n",
    "ct = ColumnTransformer(transformers=[('encoder', OneHotEncoder(), [0, 1, 2])], remainder='passthrough')\n",
    "\n",
    "\n",
    "genre = 'Action'\n",
    "rating = 'E10'\n",
    "platform = 'PC'\n",
    "price = 0.0\n",
    "\n",
    "\n",
    "ct.fit(X)\n",
    "design = [[genre, rating, platform, price]]\n",
    "X_ds = ct.transform(design).toarray()\n",
    "y_pred = loaded_model.predict(X_ds)\n",
    "\n",
    "print(\"The playtime for genre {}, rating {}, platform {}, and price {} in North America is: {}\".format(genre, rating, platform, price, y_pred[0]))"
   ]
  },
  {
   "cell_type": "code",
   "execution_count": 14,
   "metadata": {},
   "outputs": [
    {
     "ename": "KeyError",
     "evalue": "\"['JP_playtime', 'EU_playtime', 'Other_playtime'] not in index\"",
     "output_type": "error",
     "traceback": [
      "\u001b[1;31m---------------------------------------------------------------------------\u001b[0m",
      "\u001b[1;31mKeyError\u001b[0m                                  Traceback (most recent call last)",
      "\u001b[1;32m<ipython-input-14-8ea6b956b9da>\u001b[0m in \u001b[0;36m<module>\u001b[1;34m\u001b[0m\n\u001b[1;32m----> 1\u001b[1;33m \u001b[0mdf\u001b[0m \u001b[1;33m=\u001b[0m \u001b[0mdf\u001b[0m\u001b[1;33m[\u001b[0m\u001b[1;33m[\u001b[0m\u001b[1;34m'Genre'\u001b[0m\u001b[1;33m,\u001b[0m \u001b[1;34m'ESRB_Rating'\u001b[0m\u001b[1;33m,\u001b[0m \u001b[1;34m'Platform'\u001b[0m\u001b[1;33m,\u001b[0m \u001b[1;34m'price'\u001b[0m\u001b[1;33m,\u001b[0m \u001b[1;34m'NA_playtime'\u001b[0m\u001b[1;33m,\u001b[0m \u001b[1;34m'EU_playtime'\u001b[0m\u001b[1;33m,\u001b[0m \u001b[1;34m'JP_playtime'\u001b[0m\u001b[1;33m,\u001b[0m \u001b[1;34m'Other_playtime'\u001b[0m\u001b[1;33m]\u001b[0m\u001b[1;33m]\u001b[0m\u001b[1;33m\u001b[0m\u001b[1;33m\u001b[0m\u001b[0m\n\u001b[0m",
      "\u001b[1;32m~\\Anaconda3\\lib\\site-packages\\pandas\\core\\frame.py\u001b[0m in \u001b[0;36m__getitem__\u001b[1;34m(self, key)\u001b[0m\n\u001b[0;32m   2932\u001b[0m                 \u001b[0mkey\u001b[0m \u001b[1;33m=\u001b[0m \u001b[0mlist\u001b[0m\u001b[1;33m(\u001b[0m\u001b[0mkey\u001b[0m\u001b[1;33m)\u001b[0m\u001b[1;33m\u001b[0m\u001b[1;33m\u001b[0m\u001b[0m\n\u001b[0;32m   2933\u001b[0m             indexer = self.loc._convert_to_indexer(key, axis=1,\n\u001b[1;32m-> 2934\u001b[1;33m                                                    raise_missing=True)\n\u001b[0m\u001b[0;32m   2935\u001b[0m \u001b[1;33m\u001b[0m\u001b[0m\n\u001b[0;32m   2936\u001b[0m         \u001b[1;31m# take() does not accept boolean indexers\u001b[0m\u001b[1;33m\u001b[0m\u001b[1;33m\u001b[0m\u001b[1;33m\u001b[0m\u001b[0m\n",
      "\u001b[1;32m~\\Anaconda3\\lib\\site-packages\\pandas\\core\\indexing.py\u001b[0m in \u001b[0;36m_convert_to_indexer\u001b[1;34m(self, obj, axis, is_setter, raise_missing)\u001b[0m\n\u001b[0;32m   1352\u001b[0m                 kwargs = {'raise_missing': True if is_setter else\n\u001b[0;32m   1353\u001b[0m                           raise_missing}\n\u001b[1;32m-> 1354\u001b[1;33m                 \u001b[1;32mreturn\u001b[0m \u001b[0mself\u001b[0m\u001b[1;33m.\u001b[0m\u001b[0m_get_listlike_indexer\u001b[0m\u001b[1;33m(\u001b[0m\u001b[0mobj\u001b[0m\u001b[1;33m,\u001b[0m \u001b[0maxis\u001b[0m\u001b[1;33m,\u001b[0m \u001b[1;33m**\u001b[0m\u001b[0mkwargs\u001b[0m\u001b[1;33m)\u001b[0m\u001b[1;33m[\u001b[0m\u001b[1;36m1\u001b[0m\u001b[1;33m]\u001b[0m\u001b[1;33m\u001b[0m\u001b[1;33m\u001b[0m\u001b[0m\n\u001b[0m\u001b[0;32m   1355\u001b[0m         \u001b[1;32melse\u001b[0m\u001b[1;33m:\u001b[0m\u001b[1;33m\u001b[0m\u001b[1;33m\u001b[0m\u001b[0m\n\u001b[0;32m   1356\u001b[0m             \u001b[1;32mtry\u001b[0m\u001b[1;33m:\u001b[0m\u001b[1;33m\u001b[0m\u001b[1;33m\u001b[0m\u001b[0m\n",
      "\u001b[1;32m~\\Anaconda3\\lib\\site-packages\\pandas\\core\\indexing.py\u001b[0m in \u001b[0;36m_get_listlike_indexer\u001b[1;34m(self, key, axis, raise_missing)\u001b[0m\n\u001b[0;32m   1159\u001b[0m         self._validate_read_indexer(keyarr, indexer,\n\u001b[0;32m   1160\u001b[0m                                     \u001b[0mo\u001b[0m\u001b[1;33m.\u001b[0m\u001b[0m_get_axis_number\u001b[0m\u001b[1;33m(\u001b[0m\u001b[0maxis\u001b[0m\u001b[1;33m)\u001b[0m\u001b[1;33m,\u001b[0m\u001b[1;33m\u001b[0m\u001b[1;33m\u001b[0m\u001b[0m\n\u001b[1;32m-> 1161\u001b[1;33m                                     raise_missing=raise_missing)\n\u001b[0m\u001b[0;32m   1162\u001b[0m         \u001b[1;32mreturn\u001b[0m \u001b[0mkeyarr\u001b[0m\u001b[1;33m,\u001b[0m \u001b[0mindexer\u001b[0m\u001b[1;33m\u001b[0m\u001b[1;33m\u001b[0m\u001b[0m\n\u001b[0;32m   1163\u001b[0m \u001b[1;33m\u001b[0m\u001b[0m\n",
      "\u001b[1;32m~\\Anaconda3\\lib\\site-packages\\pandas\\core\\indexing.py\u001b[0m in \u001b[0;36m_validate_read_indexer\u001b[1;34m(self, key, indexer, axis, raise_missing)\u001b[0m\n\u001b[0;32m   1250\u001b[0m             \u001b[1;32mif\u001b[0m \u001b[1;32mnot\u001b[0m\u001b[1;33m(\u001b[0m\u001b[0mself\u001b[0m\u001b[1;33m.\u001b[0m\u001b[0mname\u001b[0m \u001b[1;33m==\u001b[0m \u001b[1;34m'loc'\u001b[0m \u001b[1;32mand\u001b[0m \u001b[1;32mnot\u001b[0m \u001b[0mraise_missing\u001b[0m\u001b[1;33m)\u001b[0m\u001b[1;33m:\u001b[0m\u001b[1;33m\u001b[0m\u001b[1;33m\u001b[0m\u001b[0m\n\u001b[0;32m   1251\u001b[0m                 \u001b[0mnot_found\u001b[0m \u001b[1;33m=\u001b[0m \u001b[0mlist\u001b[0m\u001b[1;33m(\u001b[0m\u001b[0mset\u001b[0m\u001b[1;33m(\u001b[0m\u001b[0mkey\u001b[0m\u001b[1;33m)\u001b[0m \u001b[1;33m-\u001b[0m \u001b[0mset\u001b[0m\u001b[1;33m(\u001b[0m\u001b[0max\u001b[0m\u001b[1;33m)\u001b[0m\u001b[1;33m)\u001b[0m\u001b[1;33m\u001b[0m\u001b[1;33m\u001b[0m\u001b[0m\n\u001b[1;32m-> 1252\u001b[1;33m                 \u001b[1;32mraise\u001b[0m \u001b[0mKeyError\u001b[0m\u001b[1;33m(\u001b[0m\u001b[1;34m\"{} not in index\"\u001b[0m\u001b[1;33m.\u001b[0m\u001b[0mformat\u001b[0m\u001b[1;33m(\u001b[0m\u001b[0mnot_found\u001b[0m\u001b[1;33m)\u001b[0m\u001b[1;33m)\u001b[0m\u001b[1;33m\u001b[0m\u001b[1;33m\u001b[0m\u001b[0m\n\u001b[0m\u001b[0;32m   1253\u001b[0m \u001b[1;33m\u001b[0m\u001b[0m\n\u001b[0;32m   1254\u001b[0m             \u001b[1;31m# we skip the warning on Categorical/Interval\u001b[0m\u001b[1;33m\u001b[0m\u001b[1;33m\u001b[0m\u001b[1;33m\u001b[0m\u001b[0m\n",
      "\u001b[1;31mKeyError\u001b[0m: \"['JP_playtime', 'EU_playtime', 'Other_playtime'] not in index\""
     ]
    }
   ],
   "source": [
    "df = df[['Genre', 'ESRB_Rating', 'Platform', 'price', 'NA_playtime', 'EU_playtime', 'JP_playtime', 'Other_playtime']]"
   ]
  },
  {
   "cell_type": "code",
   "execution_count": 15,
   "metadata": {},
   "outputs": [
    {
     "data": {
      "text/html": [
       "<div>\n",
       "<style scoped>\n",
       "    .dataframe tbody tr th:only-of-type {\n",
       "        vertical-align: middle;\n",
       "    }\n",
       "\n",
       "    .dataframe tbody tr th {\n",
       "        vertical-align: top;\n",
       "    }\n",
       "\n",
       "    .dataframe thead th {\n",
       "        text-align: right;\n",
       "    }\n",
       "</style>\n",
       "<table border=\"1\" class=\"dataframe\">\n",
       "  <thead>\n",
       "    <tr style=\"text-align: right;\">\n",
       "      <th></th>\n",
       "      <th></th>\n",
       "      <th></th>\n",
       "      <th></th>\n",
       "      <th>NA_playtime</th>\n",
       "    </tr>\n",
       "    <tr>\n",
       "      <th>Genre</th>\n",
       "      <th>Platform</th>\n",
       "      <th>ESRB_Rating</th>\n",
       "      <th>price</th>\n",
       "      <th></th>\n",
       "    </tr>\n",
       "  </thead>\n",
       "  <tbody>\n",
       "    <tr>\n",
       "      <th rowspan=\"30\" valign=\"top\">Action</th>\n",
       "      <th>3DS</th>\n",
       "      <th>T</th>\n",
       "      <th>999.0</th>\n",
       "      <td>12.188732</td>\n",
       "    </tr>\n",
       "    <tr>\n",
       "      <th>Linux</th>\n",
       "      <th>E10</th>\n",
       "      <th>0.0</th>\n",
       "      <td>2.715385</td>\n",
       "    </tr>\n",
       "    <tr>\n",
       "      <th>NGage</th>\n",
       "      <th>T</th>\n",
       "      <th>199.0</th>\n",
       "      <td>4.897143</td>\n",
       "    </tr>\n",
       "    <tr>\n",
       "      <th>OSX</th>\n",
       "      <th>E10</th>\n",
       "      <th>0.0</th>\n",
       "      <td>2.715385</td>\n",
       "    </tr>\n",
       "    <tr>\n",
       "      <th rowspan=\"8\" valign=\"top\">PC</th>\n",
       "      <th>E10</th>\n",
       "      <th>0.0</th>\n",
       "      <td>2.715385</td>\n",
       "    </tr>\n",
       "    <tr>\n",
       "      <th rowspan=\"5\" valign=\"top\">M</th>\n",
       "      <th>999.0</th>\n",
       "      <td>1.055556</td>\n",
       "    </tr>\n",
       "    <tr>\n",
       "      <th>1499.0</th>\n",
       "      <td>1.478431</td>\n",
       "    </tr>\n",
       "    <tr>\n",
       "      <th>1999.0</th>\n",
       "      <td>0.333333</td>\n",
       "    </tr>\n",
       "    <tr>\n",
       "      <th>2499.0</th>\n",
       "      <td>4.562500</td>\n",
       "    </tr>\n",
       "    <tr>\n",
       "      <th>2998.0</th>\n",
       "      <td>0.908333</td>\n",
       "    </tr>\n",
       "    <tr>\n",
       "      <th rowspan=\"2\" valign=\"top\">T</th>\n",
       "      <th>199.0</th>\n",
       "      <td>4.897143</td>\n",
       "    </tr>\n",
       "    <tr>\n",
       "      <th>999.0</th>\n",
       "      <td>9.666667</td>\n",
       "    </tr>\n",
       "    <tr>\n",
       "      <th>PS</th>\n",
       "      <th>T</th>\n",
       "      <th>199.0</th>\n",
       "      <td>4.897143</td>\n",
       "    </tr>\n",
       "    <tr>\n",
       "      <th>PS2</th>\n",
       "      <th>M</th>\n",
       "      <th>999.0</th>\n",
       "      <td>0.040000</td>\n",
       "    </tr>\n",
       "    <tr>\n",
       "      <th rowspan=\"7\" valign=\"top\">PS3</th>\n",
       "      <th rowspan=\"6\" valign=\"top\">M</th>\n",
       "      <th>0.0</th>\n",
       "      <td>0.180000</td>\n",
       "    </tr>\n",
       "    <tr>\n",
       "      <th>999.0</th>\n",
       "      <td>2.325000</td>\n",
       "    </tr>\n",
       "    <tr>\n",
       "      <th>1499.0</th>\n",
       "      <td>1.478431</td>\n",
       "    </tr>\n",
       "    <tr>\n",
       "      <th>1999.0</th>\n",
       "      <td>0.333333</td>\n",
       "    </tr>\n",
       "    <tr>\n",
       "      <th>2998.0</th>\n",
       "      <td>0.908333</td>\n",
       "    </tr>\n",
       "    <tr>\n",
       "      <th>3999.0</th>\n",
       "      <td>0.000000</td>\n",
       "    </tr>\n",
       "    <tr>\n",
       "      <th>T</th>\n",
       "      <th>999.0</th>\n",
       "      <td>9.666667</td>\n",
       "    </tr>\n",
       "    <tr>\n",
       "      <th rowspan=\"6\" valign=\"top\">PS4</th>\n",
       "      <th>E10</th>\n",
       "      <th>0.0</th>\n",
       "      <td>2.715385</td>\n",
       "    </tr>\n",
       "    <tr>\n",
       "      <th rowspan=\"4\" valign=\"top\">M</th>\n",
       "      <th>1999.0</th>\n",
       "      <td>0.277778</td>\n",
       "    </tr>\n",
       "    <tr>\n",
       "      <th>2499.0</th>\n",
       "      <td>4.562500</td>\n",
       "    </tr>\n",
       "    <tr>\n",
       "      <th>2998.0</th>\n",
       "      <td>0.908333</td>\n",
       "    </tr>\n",
       "    <tr>\n",
       "      <th>3999.0</th>\n",
       "      <td>0.000000</td>\n",
       "    </tr>\n",
       "    <tr>\n",
       "      <th>T</th>\n",
       "      <th>999.0</th>\n",
       "      <td>12.188732</td>\n",
       "    </tr>\n",
       "    <tr>\n",
       "      <th>PSN</th>\n",
       "      <th>T</th>\n",
       "      <th>199.0</th>\n",
       "      <td>4.897143</td>\n",
       "    </tr>\n",
       "    <tr>\n",
       "      <th>WiiU</th>\n",
       "      <th>T</th>\n",
       "      <th>999.0</th>\n",
       "      <td>12.188732</td>\n",
       "    </tr>\n",
       "    <tr>\n",
       "      <th>X360</th>\n",
       "      <th>M</th>\n",
       "      <th>999.0</th>\n",
       "      <td>2.325000</td>\n",
       "    </tr>\n",
       "    <tr>\n",
       "      <th>...</th>\n",
       "      <th>...</th>\n",
       "      <th>...</th>\n",
       "      <th>...</th>\n",
       "      <td>...</td>\n",
       "    </tr>\n",
       "    <tr>\n",
       "      <th rowspan=\"13\" valign=\"top\">Simulation</th>\n",
       "      <th rowspan=\"2\" valign=\"top\">OSX</th>\n",
       "      <th rowspan=\"2\" valign=\"top\">T</th>\n",
       "      <th>1999.0</th>\n",
       "      <td>2.485714</td>\n",
       "    </tr>\n",
       "    <tr>\n",
       "      <th>2999.0</th>\n",
       "      <td>0.000000</td>\n",
       "    </tr>\n",
       "    <tr>\n",
       "      <th rowspan=\"4\" valign=\"top\">PC</th>\n",
       "      <th>E</th>\n",
       "      <th>0.0</th>\n",
       "      <td>0.100000</td>\n",
       "    </tr>\n",
       "    <tr>\n",
       "      <th>M</th>\n",
       "      <th>2999.0</th>\n",
       "      <td>1.375000</td>\n",
       "    </tr>\n",
       "    <tr>\n",
       "      <th rowspan=\"2\" valign=\"top\">T</th>\n",
       "      <th>1999.0</th>\n",
       "      <td>2.485714</td>\n",
       "    </tr>\n",
       "    <tr>\n",
       "      <th>2999.0</th>\n",
       "      <td>0.000000</td>\n",
       "    </tr>\n",
       "    <tr>\n",
       "      <th rowspan=\"3\" valign=\"top\">PS4</th>\n",
       "      <th>M</th>\n",
       "      <th>2999.0</th>\n",
       "      <td>1.375000</td>\n",
       "    </tr>\n",
       "    <tr>\n",
       "      <th rowspan=\"2\" valign=\"top\">T</th>\n",
       "      <th>1999.0</th>\n",
       "      <td>2.485714</td>\n",
       "    </tr>\n",
       "    <tr>\n",
       "      <th>2999.0</th>\n",
       "      <td>0.000000</td>\n",
       "    </tr>\n",
       "    <tr>\n",
       "      <th>X360</th>\n",
       "      <th>T</th>\n",
       "      <th>1999.0</th>\n",
       "      <td>2.485714</td>\n",
       "    </tr>\n",
       "    <tr>\n",
       "      <th rowspan=\"3\" valign=\"top\">XOne</th>\n",
       "      <th>M</th>\n",
       "      <th>2999.0</th>\n",
       "      <td>1.375000</td>\n",
       "    </tr>\n",
       "    <tr>\n",
       "      <th rowspan=\"2\" valign=\"top\">T</th>\n",
       "      <th>1999.0</th>\n",
       "      <td>2.485714</td>\n",
       "    </tr>\n",
       "    <tr>\n",
       "      <th>2999.0</th>\n",
       "      <td>0.000000</td>\n",
       "    </tr>\n",
       "    <tr>\n",
       "      <th rowspan=\"2\" valign=\"top\">Sports</th>\n",
       "      <th>PS4</th>\n",
       "      <th>T</th>\n",
       "      <th>1999.0</th>\n",
       "      <td>4.800000</td>\n",
       "    </tr>\n",
       "    <tr>\n",
       "      <th>XOne</th>\n",
       "      <th>T</th>\n",
       "      <th>1999.0</th>\n",
       "      <td>4.800000</td>\n",
       "    </tr>\n",
       "    <tr>\n",
       "      <th rowspan=\"15\" valign=\"top\">Strategy</th>\n",
       "      <th>DC</th>\n",
       "      <th>E</th>\n",
       "      <th>1499.0</th>\n",
       "      <td>0.700000</td>\n",
       "    </tr>\n",
       "    <tr>\n",
       "      <th>GB</th>\n",
       "      <th>E</th>\n",
       "      <th>1499.0</th>\n",
       "      <td>0.700000</td>\n",
       "    </tr>\n",
       "    <tr>\n",
       "      <th>N64</th>\n",
       "      <th>E</th>\n",
       "      <th>1499.0</th>\n",
       "      <td>0.700000</td>\n",
       "    </tr>\n",
       "    <tr>\n",
       "      <th rowspan=\"8\" valign=\"top\">PC</th>\n",
       "      <th>E</th>\n",
       "      <th>1499.0</th>\n",
       "      <td>0.700000</td>\n",
       "    </tr>\n",
       "    <tr>\n",
       "      <th>E10</th>\n",
       "      <th>1299.0</th>\n",
       "      <td>34.383333</td>\n",
       "    </tr>\n",
       "    <tr>\n",
       "      <th>M</th>\n",
       "      <th>1999.0</th>\n",
       "      <td>0.144444</td>\n",
       "    </tr>\n",
       "    <tr>\n",
       "      <th>RP</th>\n",
       "      <th>0.0</th>\n",
       "      <td>0.742857</td>\n",
       "    </tr>\n",
       "    <tr>\n",
       "      <th rowspan=\"4\" valign=\"top\">T</th>\n",
       "      <th>999.0</th>\n",
       "      <td>5.041667</td>\n",
       "    </tr>\n",
       "    <tr>\n",
       "      <th>1499.0</th>\n",
       "      <td>3.984615</td>\n",
       "    </tr>\n",
       "    <tr>\n",
       "      <th>1999.0</th>\n",
       "      <td>0.000000</td>\n",
       "    </tr>\n",
       "    <tr>\n",
       "      <th>3999.0</th>\n",
       "      <td>0.000000</td>\n",
       "    </tr>\n",
       "    <tr>\n",
       "      <th>PS</th>\n",
       "      <th>E</th>\n",
       "      <th>1499.0</th>\n",
       "      <td>0.700000</td>\n",
       "    </tr>\n",
       "    <tr>\n",
       "      <th rowspan=\"2\" valign=\"top\">X360</th>\n",
       "      <th>E10</th>\n",
       "      <th>1299.0</th>\n",
       "      <td>34.383333</td>\n",
       "    </tr>\n",
       "    <tr>\n",
       "      <th>T</th>\n",
       "      <th>1499.0</th>\n",
       "      <td>3.984615</td>\n",
       "    </tr>\n",
       "    <tr>\n",
       "      <th>XBL</th>\n",
       "      <th>T</th>\n",
       "      <th>999.0</th>\n",
       "      <td>5.041667</td>\n",
       "    </tr>\n",
       "  </tbody>\n",
       "</table>\n",
       "<p>190 rows × 1 columns</p>\n",
       "</div>"
      ],
      "text/plain": [
       "                                        NA_playtime\n",
       "Genre      Platform ESRB_Rating price              \n",
       "Action     3DS      T           999.0     12.188732\n",
       "           Linux    E10         0.0        2.715385\n",
       "           NGage    T           199.0      4.897143\n",
       "           OSX      E10         0.0        2.715385\n",
       "           PC       E10         0.0        2.715385\n",
       "                    M           999.0      1.055556\n",
       "                                1499.0     1.478431\n",
       "                                1999.0     0.333333\n",
       "                                2499.0     4.562500\n",
       "                                2998.0     0.908333\n",
       "                    T           199.0      4.897143\n",
       "                                999.0      9.666667\n",
       "           PS       T           199.0      4.897143\n",
       "           PS2      M           999.0      0.040000\n",
       "           PS3      M           0.0        0.180000\n",
       "                                999.0      2.325000\n",
       "                                1499.0     1.478431\n",
       "                                1999.0     0.333333\n",
       "                                2998.0     0.908333\n",
       "                                3999.0     0.000000\n",
       "                    T           999.0      9.666667\n",
       "           PS4      E10         0.0        2.715385\n",
       "                    M           1999.0     0.277778\n",
       "                                2499.0     4.562500\n",
       "                                2998.0     0.908333\n",
       "                                3999.0     0.000000\n",
       "                    T           999.0     12.188732\n",
       "           PSN      T           199.0      4.897143\n",
       "           WiiU     T           999.0     12.188732\n",
       "           X360     M           999.0      2.325000\n",
       "...                                             ...\n",
       "Simulation OSX      T           1999.0     2.485714\n",
       "                                2999.0     0.000000\n",
       "           PC       E           0.0        0.100000\n",
       "                    M           2999.0     1.375000\n",
       "                    T           1999.0     2.485714\n",
       "                                2999.0     0.000000\n",
       "           PS4      M           2999.0     1.375000\n",
       "                    T           1999.0     2.485714\n",
       "                                2999.0     0.000000\n",
       "           X360     T           1999.0     2.485714\n",
       "           XOne     M           2999.0     1.375000\n",
       "                    T           1999.0     2.485714\n",
       "                                2999.0     0.000000\n",
       "Sports     PS4      T           1999.0     4.800000\n",
       "           XOne     T           1999.0     4.800000\n",
       "Strategy   DC       E           1499.0     0.700000\n",
       "           GB       E           1499.0     0.700000\n",
       "           N64      E           1499.0     0.700000\n",
       "           PC       E           1499.0     0.700000\n",
       "                    E10         1299.0    34.383333\n",
       "                    M           1999.0     0.144444\n",
       "                    RP          0.0        0.742857\n",
       "                    T           999.0      5.041667\n",
       "                                1499.0     3.984615\n",
       "                                1999.0     0.000000\n",
       "                                3999.0     0.000000\n",
       "           PS       E           1499.0     0.700000\n",
       "           X360     E10         1299.0    34.383333\n",
       "                    T           1499.0     3.984615\n",
       "           XBL      T           999.0      5.041667\n",
       "\n",
       "[190 rows x 1 columns]"
      ]
     },
     "execution_count": 15,
     "metadata": {},
     "output_type": "execute_result"
    }
   ],
   "source": [
    "df.groupby(['Genre', 'Platform', 'ESRB_Rating', 'price']).mean()"
   ]
  },
  {
   "cell_type": "code",
   "execution_count": null,
   "metadata": {},
   "outputs": [],
   "source": []
  }
 ],
 "metadata": {
  "kernelspec": {
   "display_name": "Python 3",
   "language": "python",
   "name": "python3"
  },
  "language_info": {
   "codemirror_mode": {
    "name": "ipython",
    "version": 3
   },
   "file_extension": ".py",
   "mimetype": "text/x-python",
   "name": "python",
   "nbconvert_exporter": "python",
   "pygments_lexer": "ipython3",
   "version": "3.7.3"
  }
 },
 "nbformat": 4,
 "nbformat_minor": 2
}
