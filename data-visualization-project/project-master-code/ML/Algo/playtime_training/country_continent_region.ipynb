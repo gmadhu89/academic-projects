{
 "cells": [
  {
   "cell_type": "code",
   "execution_count": 113,
   "metadata": {},
   "outputs": [],
   "source": [
    "import pandas as pd\n",
    "import numpy as np"
   ]
  },
  {
   "cell_type": "code",
   "execution_count": 114,
   "metadata": {},
   "outputs": [],
   "source": [
    "ply_time_country = pd.read_csv('D:/PhD VIII/CSE 6242/Proj_6242/CSE-6242-Project/DB/playtime_pred/playtime_cleaned.csv')"
   ]
  },
  {
   "cell_type": "code",
   "execution_count": 115,
   "metadata": {},
   "outputs": [],
   "source": [
    "country_continent = pd.read_csv('D:/PhD VIII/CSE 6242/Proj_6242/CSE-6242-Project/DB/playtime_pred/country_continent.csv')\n",
    "country_continent = country_continent[['Two_Letter_Country_Code', 'Continent_Code', 'Continent_Name']]"
   ]
  },
  {
   "cell_type": "code",
   "execution_count": 116,
   "metadata": {},
   "outputs": [],
   "source": [
    "merged_df = ply_time_country.merge(country_continent,\n",
    "                      how='left',\n",
    "                      left_on='country_code',\n",
    "                      right_on='Two_Letter_Country_Code')\n",
    "merged_df = merged_df.drop(columns=['Two_Letter_Country_Code'])"
   ]
  },
  {
   "cell_type": "code",
   "execution_count": 117,
   "metadata": {},
   "outputs": [
    {
     "data": {
      "text/plain": [
       "{'Africa',\n",
       " 'Antarctica',\n",
       " 'Asia',\n",
       " 'Europe',\n",
       " 'North America',\n",
       " 'Oceania',\n",
       " 'South America',\n",
       " nan}"
      ]
     },
     "execution_count": 117,
     "metadata": {},
     "output_type": "execute_result"
    }
   ],
   "source": [
    "set(merged_df['Continent_Name'].tolist())"
   ]
  },
  {
   "cell_type": "code",
   "execution_count": 118,
   "metadata": {},
   "outputs": [],
   "source": [
    "continent_region_mapping = {'North America': 'NA',\n",
    "                            'Europe': 'EU',\n",
    "                            'Asia': 'AS',\n",
    "                            'Africa': 'Other',\n",
    "                            'Antarctica': 'Other',\n",
    "                            'Oceania': 'Other',\n",
    "                            'South America': 'Other',\n",
    "                            np.nan: 'Other'}"
   ]
  },
  {
   "cell_type": "code",
   "execution_count": 119,
   "metadata": {},
   "outputs": [],
   "source": [
    "merged_df['Region'] = merged_df.apply(lambda row: continent_region_mapping[row['Continent_Name']], axis=1)"
   ]
  },
  {
   "cell_type": "code",
   "execution_count": 120,
   "metadata": {},
   "outputs": [],
   "source": [
    "def for_jp(row):\n",
    "    if (row['Region']=='AS'):\n",
    "        if (row['country_code']=='JP'):\n",
    "            return 'JP'\n",
    "        else:\n",
    "            return 'Other'\n",
    "    else:\n",
    "        return row['Region']"
   ]
  },
  {
   "cell_type": "code",
   "execution_count": 121,
   "metadata": {},
   "outputs": [],
   "source": [
    "merged_df['Region'] = merged_df.apply(lambda row: for_jp(row), axis=1)"
   ]
  },
  {
   "cell_type": "code",
   "execution_count": 122,
   "metadata": {},
   "outputs": [],
   "source": [
    "merged_df['EU_playtime'] = merged_df.apply(lambda row: row['time'] if row['Region']=='EU' else 0, axis=1)\n",
    "merged_df['JP_playtime'] = merged_df.apply(lambda row: row['time'] if row['Region']=='JP' else 0, axis=1)\n",
    "merged_df['NA_playtime'] = merged_df.apply(lambda row: row['time'] if row['Region']=='NA' else 0, axis=1)\n",
    "merged_df['Other_playtime'] = merged_df.apply(lambda row: row['time'] if row['Region']=='Other' else 0, axis=1)"
   ]
  },
  {
   "cell_type": "code",
   "execution_count": 124,
   "metadata": {},
   "outputs": [],
   "source": [
    "merged_df.to_csv('D:/PhD VIII/CSE 6242/Proj_6242/CSE-6242-Project/DB/playtime_pred/playtime_region_final.csv', index=False)"
   ]
  },
  {
   "cell_type": "code",
   "execution_count": null,
   "metadata": {},
   "outputs": [],
   "source": []
  }
 ],
 "metadata": {
  "kernelspec": {
   "display_name": "Python 3",
   "language": "python",
   "name": "python3"
  },
  "language_info": {
   "codemirror_mode": {
    "name": "ipython",
    "version": 3
   },
   "file_extension": ".py",
   "mimetype": "text/x-python",
   "name": "python",
   "nbconvert_exporter": "python",
   "pygments_lexer": "ipython3",
   "version": "3.7.3"
  }
 },
 "nbformat": 4,
 "nbformat_minor": 2
}
