{
 "cells": [
  {
   "cell_type": "markdown",
   "metadata": {},
   "source": [
    "# HW3 Q4 [10 pts]\n",
    "\n",
    "\n",
    "\n",
    "## Important Notices\n",
    "\n",
    "<div class=\"alert alert-block alert-danger\">\n",
    "    WARNING: Do <strong>NOT</strong> add any cells to this Jupyter Notebook, because that will crash the autograder.\n",
    "</div>\n",
    "\n",
    "\n",
    "All instructions, code comments, etc. in this notebook **are part of the assignment instructions**. That is, if there is instructions about completing a task in this notebook, that task is not optional.  \n",
    "\n",
    "\n",
    "\n",
    "<div class=\"alert alert-block alert-info\">\n",
    "    You <strong>must</strong> implement the following functions in this notebook to receive credit.\n",
    "</div>\n",
    "\n",
    "`user()`\n",
    "\n",
    "`load_data()`\n",
    "\n",
    "`exclude_no_pickuplocations()`\n",
    "\n",
    "`exclude_no_tripdistance()`\n",
    "\n",
    "`include_fare_range()`\n",
    "\n",
    "`get_highest_tip()`\n",
    "\n",
    "`get_total_toll()`\n",
    "\n",
    "Each method will be auto-graded using different sets of parameters or data, to ensure that values are not hard-coded.  You may assume we will only use your code to work with data from NYC Taxi Trips during auto-grading. You do not need to write code for unreasonable scenarios.  \n",
    "\n",
    "Since the overall correctness of your code will require multiple function to work together correctly (i.e., all methods are interdepedent), implementing only a subset of the functions likely will lead to a low score.\n",
    "\n",
    "### Helper functions\n",
    "\n",
    "You are permitted to write additional helper functions, or use additional instance variables so long as the previously described functions work as required.  "
   ]
  },
  {
   "cell_type": "markdown",
   "metadata": {},
   "source": [
    "#### Pyspark Imports\n",
    "<span style=\"color:red\">*Please don't modify the below cell*</span>"
   ]
  },
  {
   "cell_type": "code",
   "execution_count": 1,
   "metadata": {},
   "outputs": [],
   "source": [
    "import pyspark\n",
    "from pyspark.sql import SQLContext\n",
    "from pyspark.sql import *"
   ]
  },
  {
   "cell_type": "markdown",
   "metadata": {},
   "source": [
    "#### Define Spark Context\n",
    "<span style=\"color:red\">*Please don't modify the below cell*</span>"
   ]
  },
  {
   "cell_type": "code",
   "execution_count": 2,
   "metadata": {},
   "outputs": [],
   "source": [
    "sc\n",
    "sqlContext = SQLContext(sc)"
   ]
  },
  {
   "cell_type": "markdown",
   "metadata": {},
   "source": [
    "### Student Section - Please compete all the functions below"
   ]
  },
  {
   "cell_type": "markdown",
   "metadata": {},
   "source": []
  },
  {
   "cell_type": "code",
   "execution_count": 3,
   "metadata": {},
   "outputs": [],
   "source": [
    "def user():\n",
    "        \"\"\"\n",
    "        :return: string\n",
    "        \"\"\"         \n",
    "        return 'mganesan7'"
   ]
  },
  {
   "cell_type": "markdown",
   "metadata": {},
   "source": [
    "#### Function to load data"
   ]
  },
  {
   "cell_type": "code",
   "execution_count": 4,
   "metadata": {},
   "outputs": [],
   "source": [
    "def load_data(gcp_storage_path):\n",
    "    \"\"\"\n",
    "        :param gcp_storage_path: string (full gs path including file name e.g gs://bucket_name/data.csv) \n",
    "        :return: spark dataframe  \n",
    "    \"\"\"\n",
    "    \n",
    "    ################################################################\n",
    "    # code to load yellow_tripdata_2019-01.csv data from your GCP storage bucket#\n",
    "    #                                                              #        \n",
    "    ################################################################\n",
    "    #gcp_storage_path = 'gs://mganesan7/yellow_tripdata_2019-01.csv'\n",
    "    from pyspark.sql.types import DecimalType\n",
    "    from pyspark.sql import functions as F\n",
    "    df = spark.read.format('csv').option(\"header\", \"true\").load([gcp_storage_path]) \\\n",
    "              .withColumn(\"trip_distance\",F.col('trip_distance').cast(DecimalType())) \\\n",
    "              .withColumn(\"fare_amount\",F.col('fare_amount').cast(DecimalType())) \\\n",
    "              .withColumn(\"tip_amount\", F.col('tip_amount').cast(DecimalType())) \\\n",
    "              .withColumn(\"tolls_amount\", F.col('tolls_amount').cast(DecimalType()))\n",
    "        \n",
    "    return df"
   ]
  },
  {
   "cell_type": "markdown",
   "metadata": {},
   "source": [
    "#### Function to exclude trips that don't have a pickup location"
   ]
  },
  {
   "cell_type": "code",
   "execution_count": 5,
   "metadata": {},
   "outputs": [],
   "source": [
    "def exclude_no_pickuplocations(df):\n",
    "    \"\"\"\n",
    "        :param nyc tax trips dataframe: spark dataframe \n",
    "        :return: spark dataframe  \n",
    "    \"\"\"\n",
    "    \n",
    "    ################################################################\n",
    "    # code to exclude trips with no pickup locations               #\n",
    "    # Note: Exclude  nulls, blanks and zeros                       #        \n",
    "    ################################################################\n",
    "    from pyspark.sql import functions as F\n",
    "    \n",
    "    df = df.filter(df.PULocationID.isNotNull())\n",
    "    df = df.filter(df.PULocationID != \"\")\n",
    "    df = df.filter(df.PULocationID != 0.0)\n",
    "    \n",
    "    return df"
   ]
  },
  {
   "cell_type": "markdown",
   "metadata": {},
   "source": [
    "#### Function to exclude trips with no distance"
   ]
  },
  {
   "cell_type": "code",
   "execution_count": 6,
   "metadata": {},
   "outputs": [],
   "source": [
    "def exclude_no_tripdistance(df):\n",
    "    \"\"\"\n",
    "        :param nyc tax trips dataframe: spark dataframe \n",
    "        :return: spark dataframe  \n",
    "    \"\"\"\n",
    "    \n",
    "    ################################################################\n",
    "    # code to exclude trips with no trip distances                 #\n",
    "    # Note: Exclude  nulls, blanks and zero                        #        \n",
    "    ################################################################\n",
    "    from pyspark.sql import functions as F\n",
    "    df = df.na.drop(subset = [\"trip_distance\"]).filter(df.trip_distance != 0.0)\n",
    "    \n",
    "    return df"
   ]
  },
  {
   "cell_type": "markdown",
   "metadata": {},
   "source": [
    "#### Function to include fare amount between the range of 20 to 60 Dollars"
   ]
  },
  {
   "cell_type": "code",
   "execution_count": 7,
   "metadata": {},
   "outputs": [],
   "source": [
    "def include_fare_range(df):\n",
    "    \"\"\"\n",
    "        :param nyc tax trips dataframe: spark dataframe \n",
    "        :return: spark dataframe  \n",
    "    \"\"\"\n",
    "    \n",
    "    ################################################################\n",
    "    # code to include trips with only within the fare range of     #\n",
    "    # 20 to 60 dollars (including 20 and 60 dollars)               #        \n",
    "    ################################################################\n",
    "    \n",
    "    from pyspark.sql import functions as F\n",
    "    df = df.filter( (df.fare_amount >= 20) & (df.fare_amount <= 60) )\n",
    "    \n",
    "    return df"
   ]
  },
  {
   "cell_type": "markdown",
   "metadata": {},
   "source": [
    "#### Function to get the highest tip amount"
   ]
  },
  {
   "cell_type": "code",
   "execution_count": 8,
   "metadata": {},
   "outputs": [],
   "source": [
    "def get_highest_tip(df):\n",
    "    \"\"\"\n",
    "        :param nyc tax trips dataframe: spark dataframe \n",
    "        :return: decimal (rounded to 2 digits)  (NOTE: DON'T USE FLOAT)\n",
    "    \"\"\"\n",
    "    \n",
    "    ################################################################\n",
    "    # code to get the highest tip                                  #\n",
    "    #                                                              #        \n",
    "    ################################################################\n",
    "    from pyspark.sql import functions as F\n",
    "    from pyspark.sql.types import DecimalType\n",
    "    \n",
    "    max_tip = df.groupBy().max('tip_amount') \\\n",
    "     .withColumn(\"max_tip\",F.round(F.col('max(tip_amount)'),2).cast(\"decimal(10,2)\")) \\\n",
    "     .collect()[0]['max_tip']\n",
    "    \n",
    "    return max_tip"
   ]
  },
  {
   "cell_type": "markdown",
   "metadata": {},
   "source": [
    "#### Function to get total toll amount"
   ]
  },
  {
   "cell_type": "code",
   "execution_count": 9,
   "metadata": {},
   "outputs": [],
   "source": [
    "def get_total_toll(df):\n",
    "    \"\"\"\n",
    "        :param nyc tax trips dataframe: spark dataframe \n",
    "        :return: decimal (rounded to 2 digits)  (NOTE: DON'T USE FLOAT)\n",
    "    \"\"\"\n",
    "    \n",
    "    ################################################################\n",
    "    # code to get total toll amount                                #\n",
    "    #                                                              #        \n",
    "    ################################################################\n",
    "    from pyspark.sql import functions as F\n",
    "    from pyspark.sql.types import DecimalType\n",
    "    \n",
    "    total_toll = df.groupBy().agg({'tolls_amount':'sum'}) \\\n",
    "                   .withColumnRenamed('sum(tolls_amount)','total_toll') \\\n",
    "                   .withColumn('total_toll', F.round(F.col(\"total_toll\"),2).cast(\"decimal(10,2)\")) \\\n",
    "                   .collect()[0]['total_toll']\n",
    "    \n",
    "    return total_toll"
   ]
  },
  {
   "cell_type": "markdown",
   "metadata": {},
   "source": [
    "### Run above functions and print\n",
    "\n",
    "#### Uncomment the cells below and test your implemented functions"
   ]
  },
  {
   "cell_type": "markdown",
   "metadata": {},
   "source": [
    "#### Load data from yellow_tripdata_2019-01.csv "
   ]
  },
  {
   "cell_type": "code",
   "execution_count": 10,
   "metadata": {},
   "outputs": [
    {
     "name": "stdout",
     "output_type": "stream",
     "text": [
      "root\n",
      " |-- VendorID: string (nullable = true)\n",
      " |-- tpep_pickup_datetime: string (nullable = true)\n",
      " |-- tpep_dropoff_datetime: string (nullable = true)\n",
      " |-- passenger_count: string (nullable = true)\n",
      " |-- trip_distance: decimal(10,0) (nullable = true)\n",
      " |-- RatecodeID: string (nullable = true)\n",
      " |-- store_and_fwd_flag: string (nullable = true)\n",
      " |-- PULocationID: string (nullable = true)\n",
      " |-- DOLocationID: string (nullable = true)\n",
      " |-- payment_type: string (nullable = true)\n",
      " |-- fare_amount: decimal(10,0) (nullable = true)\n",
      " |-- extra: string (nullable = true)\n",
      " |-- mta_tax: string (nullable = true)\n",
      " |-- tip_amount: decimal(10,0) (nullable = true)\n",
      " |-- tolls_amount: decimal(10,0) (nullable = true)\n",
      " |-- improvement_surcharge: string (nullable = true)\n",
      " |-- total_amount: string (nullable = true)\n",
      " |-- congestion_surcharge: string (nullable = true)\n",
      "\n"
     ]
    }
   ],
   "source": [
    "gcp_storage_path = \"gs://mganesan7/yellow_tripdata_2019-01.csv\"\n",
    "df = load_data(gcp_storage_path)\n",
    "df.printSchema()"
   ]
  },
  {
   "cell_type": "markdown",
   "metadata": {},
   "source": [
    "#### Print total numbers of rows in the dataframe"
   ]
  },
  {
   "cell_type": "code",
   "execution_count": 11,
   "metadata": {},
   "outputs": [
    {
     "data": {
      "text/plain": [
       "7667792"
      ]
     },
     "execution_count": 11,
     "metadata": {},
     "output_type": "execute_result"
    }
   ],
   "source": [
    "df.count()"
   ]
  },
  {
   "cell_type": "markdown",
   "metadata": {},
   "source": [
    "#### Print total number of rows in the dataframe after excluding trips with no pickup location"
   ]
  },
  {
   "cell_type": "code",
   "execution_count": 12,
   "metadata": {},
   "outputs": [
    {
     "data": {
      "text/plain": [
       "7667792"
      ]
     },
     "execution_count": 12,
     "metadata": {},
     "output_type": "execute_result"
    }
   ],
   "source": [
    "df_no_pickup_locations = exclude_no_pickuplocations(df)\n",
    "df_no_pickup_locations.count()"
   ]
  },
  {
   "cell_type": "markdown",
   "metadata": {},
   "source": [
    "#### Print total number of rows in the dataframe after exclude trips with no distance"
   ]
  },
  {
   "cell_type": "code",
   "execution_count": 13,
   "metadata": {},
   "outputs": [
    {
     "data": {
      "text/plain": [
       "7230868"
      ]
     },
     "execution_count": 13,
     "metadata": {},
     "output_type": "execute_result"
    }
   ],
   "source": [
    "df_no_trip_distance = exclude_no_tripdistance(df)\n",
    "df_no_trip_distance.count()"
   ]
  },
  {
   "cell_type": "markdown",
   "metadata": {},
   "source": [
    "#### Print total number of rows in the dataframe after including trips with fair amount between the range of 20 to 60 Dollars"
   ]
  },
  {
   "cell_type": "code",
   "execution_count": 14,
   "metadata": {},
   "outputs": [
    {
     "data": {
      "text/plain": [
       "1011593"
      ]
     },
     "execution_count": 14,
     "metadata": {},
     "output_type": "execute_result"
    }
   ],
   "source": [
    "df_include_fare_range = include_fare_range(df)\n",
    "df_include_fare_range.count()"
   ]
  },
  {
   "cell_type": "markdown",
   "metadata": {},
   "source": [
    "#### Print the highest tip amount"
   ]
  },
  {
   "cell_type": "code",
   "execution_count": 15,
   "metadata": {},
   "outputs": [
    {
     "name": "stdout",
     "output_type": "stream",
     "text": [
      "787.00\n"
     ]
    }
   ],
   "source": [
    "max_tip = get_highest_tip(df)\n",
    "print(max_tip)"
   ]
  },
  {
   "cell_type": "markdown",
   "metadata": {},
   "source": [
    "#### Print the total toll amount"
   ]
  },
  {
   "cell_type": "code",
   "execution_count": 16,
   "metadata": {},
   "outputs": [
    {
     "name": "stdout",
     "output_type": "stream",
     "text": [
      "2525415.00\n"
     ]
    }
   ],
   "source": [
    "total_toll = get_total_toll(df)\n",
    "print(total_toll)"
   ]
  },
  {
   "cell_type": "code",
   "execution_count": null,
   "metadata": {},
   "outputs": [],
   "source": []
  }
 ],
 "metadata": {
  "kernelspec": {
   "display_name": "Python 3",
   "language": "python",
   "name": "python3"
  },
  "language_info": {
   "codemirror_mode": {
    "name": "ipython",
    "version": 3
   },
   "file_extension": ".py",
   "mimetype": "text/x-python",
   "name": "python",
   "nbconvert_exporter": "python",
   "pygments_lexer": "ipython3",
   "version": "3.7.8"
  }
 },
 "nbformat": 4,
 "nbformat_minor": 2
}
