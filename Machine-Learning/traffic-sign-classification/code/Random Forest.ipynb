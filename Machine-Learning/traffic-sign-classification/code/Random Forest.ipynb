{
 "cells": [
  {
   "cell_type": "markdown",
   "id": "advised-train",
   "metadata": {},
   "source": [
    "#### Importing required libraries"
   ]
  },
  {
   "cell_type": "code",
   "execution_count": 1,
   "id": "lyric-grant",
   "metadata": {},
   "outputs": [],
   "source": [
    "import numpy as np\n",
    "import pandas as pd\n",
    "import os\n",
    "import cv2\n",
    "import matplotlib.pyplot as plt\n",
    "from collections import Counter\n",
    "from sklearn.decomposition import PCA\n",
    "from sklearn.model_selection import RepeatedStratifiedKFold\n",
    "from sklearn.ensemble import RandomForestClassifier\n",
    "from sklearn.model_selection import train_test_split\n",
    "from sklearn.metrics import classification_report\n",
    "from sklearn.metrics import confusion_matrix\n",
    "from sklearn.metrics import roc_auc_score\n",
    "from imblearn.under_sampling import RandomUnderSampler\n",
    "import time\n",
    "from sklearn.metrics import accuracy_score\n",
    "from sklearn.metrics import roc_curve\n",
    "from sklearn.metrics import auc"
   ]
  },
  {
   "cell_type": "markdown",
   "id": "joined-render",
   "metadata": {},
   "source": [
    "#### Reading the datasets (Train, Test and Meta)"
   ]
  },
  {
   "cell_type": "code",
   "execution_count": 2,
   "id": "binding-comfort",
   "metadata": {},
   "outputs": [],
   "source": [
    "base_path = 'C:/Users/gmadh/Desktop/GaTech/SUMMER 2021/ISYE 6740 Machine Learning/Project'\n",
    "\n",
    "## Reading the meta dataset\n",
    "meta_data = pd.read_csv(\"Data/Meta.csv\")\n",
    "## Getting the number of classes from the Meta dataset\n",
    "classes = meta_data.shape[0]\n",
    "\n",
    "## Loading the sample image for each class from Meta dataset\n",
    "meta_img = []\n",
    "meta_class = []\n",
    "meta_path = f'{base_path}/Data/Meta/'\n",
    "meta_files = os.listdir(meta_path)\n",
    "for file in meta_files:\n",
    "    '''\n",
    "    Note: I am not resizing these images as I will use them for EDA purposes only.\n",
    "    '''\n",
    "    image = cv2.imread(meta_path+file)\n",
    "    image = cv2.cvtColor(image, cv2.COLOR_BGR2RGB)\n",
    "    meta_img.append(image)\n",
    "    meta_class.append(file.split('.')[0])\n",
    "    \n",
    "## Reading the Train data set (consists of images in multiple folders).This piece of code will iteratively read images from every folder.\n",
    "'''\n",
    "Two lists are populated. The raw training images are of different resolutions. They are loaded as such in train_data_raw. \n",
    "For purpose of modeling, all images are resized to a common resolution (30x30) and loaded into train_data\n",
    "'''\n",
    "\n",
    "train_data_raw = []\n",
    "train_data=[]\n",
    "train_labels=[]\n",
    "\n",
    "res = 30\n",
    "\n",
    "for c in range(classes) :\n",
    "    path = f'{base_path}/Data/Train/{c}/'.format(c)\n",
    "    files = os.listdir(path)\n",
    "    for file in files:\n",
    "        train_image = cv2.imread(path+file)\n",
    "        train_image = cv2.cvtColor(train_image, cv2.COLOR_BGR2RGB)\n",
    "        image_resized = cv2.resize(train_image, (res, res), interpolation = cv2.INTER_AREA)\n",
    "        train_data.append(np.array(image_resized))\n",
    "        train_data_raw.append(train_image)\n",
    "        train_labels.append(c)\n",
    "        \n",
    "## Reading the Test data images \n",
    "test_csv = pd.read_csv(f'{base_path}/Data/Test.csv')\n",
    "test_img_path = test_csv['Path']\n",
    "\n",
    "## List containing class labels for test data\n",
    "test_labels = test_csv['ClassId'].values\n",
    "test_data = []  ## List to hold resized test images\n",
    "test_data_raw = []  ## List to hold test images in raw format\n",
    "\n",
    "for f in test_img_path:\n",
    "    test_image = cv2.imread(f'{base_path}/Data/' + f)\n",
    "    test_image = cv2.cvtColor(test_image, cv2.COLOR_BGR2RGB)\n",
    "    image_resized = cv2.resize(test_image, (res, res), interpolation = cv2.INTER_AREA)\n",
    "    test_data.append(np.array(image_resized))\n",
    "    test_data_raw.append(test_image)\n",
    "    \n",
    "    #from PIL import Image\n",
    "    #image_from_array = Image.fromarray(image, 'RGB')\n",
    "    #resized_image = np.array(image_from_array.resize((30, 30)))"
   ]
  },
  {
   "cell_type": "markdown",
   "id": "worthy-enterprise",
   "metadata": {},
   "source": [
    "#### Grouping the classes into 6 categories from 43 categories"
   ]
  },
  {
   "cell_type": "code",
   "execution_count": 3,
   "id": "optical-aquatic",
   "metadata": {},
   "outputs": [],
   "source": [
    "## Creating groups of classes and getting indexes of group elements from test and train datatsets.\n",
    "groups = {'speed':[0,1,2,3,4,5,7,8], 'prohibitory':[9,10,15,16], 'derestriction':[6,32,41,42], 'mandatory':[33,34,35,36,37,38,39,40], 'danger':[11,18,19,20,21,22,23,24,25,26,27,28,29,30,31], 'other':[12,14,13,17]}\n",
    "group_labels = {'speed':1, 'prohibitory':2, 'derestriction':3, 'mandatory':4, 'danger':5, 'other':6}\n",
    "\n",
    "group_indices_train = {}\n",
    "group_indices_test = {}\n",
    "\n",
    "for k in groups.keys():\n",
    "    group_indices_train[k] = np.where(np.isin(np.array(train_labels), groups[k]) == True)[0]\n",
    "    group_indices_test[k] = np.where(np.isin(np.array(test_labels), groups[k]) == True)[0]\n",
    "    \n",
    "## Creating new labels for train and test datasets\n",
    "train_lbl_grp = np.array(train_labels)\n",
    "test_lbl_grp = np.array(test_labels)\n",
    "\n",
    "## Updating new label values for each group\n",
    "for k,v in group_labels.items():  ##New group labels\n",
    "    train_lbl_grp[group_indices_train[k]] = v\n",
    "    test_lbl_grp[group_indices_test[k]] = v"
   ]
  },
  {
   "cell_type": "markdown",
   "id": "historic-village",
   "metadata": {},
   "source": [
    "### Data Pre-processing"
   ]
  },
  {
   "cell_type": "markdown",
   "id": "persistent-bridge",
   "metadata": {},
   "source": [
    "#### Applying below pre-processing techniques\n",
    "\n",
    "1. Resizing the data to 30 * 30 * 3 dimensions to have a common resolution for modeling (Already done and loaded in train_data and test_data)\n",
    "2. Scaling the data by diving by 255. \n",
    "3. Resampling the data to level the class imbalance."
   ]
  },
  {
   "cell_type": "code",
   "execution_count": 4,
   "id": "unlike-haiti",
   "metadata": {},
   "outputs": [],
   "source": [
    "## Preprocessing data with 2700 pixels\n",
    "## Scaling the train data\n",
    "train_arr = np.array(train_data)\n",
    "train_arr = train_arr.reshape((train_arr.shape[0], 30*30*3))\n",
    "train_data_scaled = train_arr.astype(float)/255\n",
    "\n",
    "## Scaling the test data\n",
    "test_arr = np.array(test_data)\n",
    "test_arr = test_arr.reshape((test_arr.shape[0], 30*30*3))\n",
    "test_data_scaled = test_arr.astype(float)/255\n",
    "\n",
    "## Labels : train_lbl_grp, test_lbl_grp"
   ]
  },
  {
   "cell_type": "code",
   "execution_count": 5,
   "id": "automated-royalty",
   "metadata": {},
   "outputs": [],
   "source": [
    "## Preprocessing data with 900 pixels considering only gray scale\n",
    "## Scaling the train data\n",
    "train_arr = np.array(train_data)\n",
    "train_arr = np.mean(train_arr, -1)\n",
    "train_arr = train_arr.reshape((train_arr.shape[0], 30*30))\n",
    "train_data_scaled = train_arr.astype(float)/255\n",
    "\n",
    "## Scaling the test data\n",
    "test_arr = np.array(test_data)\n",
    "test_arr = np.mean(test_arr, -1)\n",
    "test_arr = test_arr.reshape((test_arr.shape[0], 30*30))\n",
    "test_data_scaled = test_arr.astype(float)/255\n",
    "\n",
    "## Labels : train_lbl_grp, test_lbl_grp"
   ]
  },
  {
   "cell_type": "markdown",
   "id": "satisfied-alliance",
   "metadata": {},
   "source": [
    "#### Cross Validation to Tune number of trees and max_features\n",
    "\n",
    "Was done for gray scale input data after sampling down the number of training data for each class to have equal samples in every class"
   ]
  },
  {
   "cell_type": "code",
   "execution_count": 6,
   "id": "latter-welcome",
   "metadata": {},
   "outputs": [],
   "source": [
    "## Splitting into test/validation\n",
    "X_train, X_test, y_train, y_test = train_test_split(train_data_scaled,train_lbl_grp, test_size=0.2, random_state = 24)\n",
    "\n",
    "\n",
    "rus = RandomUnderSampler(random_state=0)\n",
    "X_Sampled, y_Sampled = rus.fit_resample(X_train, y_train)"
   ]
  },
  {
   "cell_type": "code",
   "execution_count": 244,
   "id": "valuable-necessity",
   "metadata": {},
   "outputs": [
    {
     "name": "stdout",
     "output_type": "stream",
     "text": [
      "Best: 0.959905 using {'max_features': 'sqrt', 'n_estimators': 500}\n",
      "0.951160 (0.005516) with: {'max_features': 'sqrt', 'n_estimators': 100}\n",
      "0.958304 (0.005235) with: {'max_features': 'sqrt', 'n_estimators': 300}\n",
      "0.959905 (0.003910) with: {'max_features': 'sqrt', 'n_estimators': 500}\n",
      "0.959720 (0.005313) with: {'max_features': 'sqrt', 'n_estimators': 700}\n",
      "0.958797 (0.004805) with: {'max_features': 'sqrt', 'n_estimators': 900}\n",
      "0.959104 (0.004683) with: {'max_features': 'sqrt', 'n_estimators': 1000}\n",
      "0.932866 (0.005693) with: {'max_features': 'log2', 'n_estimators': 100}\n",
      "0.943706 (0.004733) with: {'max_features': 'log2', 'n_estimators': 300}\n",
      "0.945800 (0.003989) with: {'max_features': 'log2', 'n_estimators': 500}\n",
      "0.946909 (0.005198) with: {'max_features': 'log2', 'n_estimators': 700}\n",
      "0.947955 (0.005809) with: {'max_features': 'log2', 'n_estimators': 900}\n",
      "0.946969 (0.005038) with: {'max_features': 'log2', 'n_estimators': 1000}\n"
     ]
    }
   ],
   "source": [
    "# define models and parameters\n",
    "model = RandomForestClassifier()\n",
    "n_estimators = [100, 300, 500, 700, 900,1000]\n",
    "max_features = ['sqrt','log2']\n",
    "# define grid search\n",
    "grid = dict(n_estimators=n_estimators,max_features=max_features)\n",
    "cv = RepeatedStratifiedKFold(n_splits=5, n_repeats=3, random_state=1)\n",
    "grid_search = GridSearchCV(estimator=model, param_grid=grid, n_jobs=-1, cv=cv, scoring='accuracy',error_score=0)\n",
    "grid_result = grid_search.fit(X_Sampled, y_Sampled)\n",
    "# summarize results\n",
    "print(\"Best: %f using %s\" % (grid_result.best_score_, grid_result.best_params_))\n",
    "means = grid_result.cv_results_['mean_test_score']\n",
    "stds = grid_result.cv_results_['std_test_score']\n",
    "params = grid_result.cv_results_['params']\n",
    "for mean, stdev, param in zip(means, stds, params):\n",
    "    print(\"%f (%f) with: %r\" % (mean, stdev, param))"
   ]
  },
  {
   "cell_type": "markdown",
   "id": "earlier-short",
   "metadata": {},
   "source": [
    "#### Plotting CV curve for maximum accuracy"
   ]
  },
  {
   "cell_type": "code",
   "execution_count": 315,
   "id": "acquired-october",
   "metadata": {},
   "outputs": [
    {
     "data": {
      "text/plain": [
       "[0.9328661342690968,\n",
       " 0.9437059831860677,\n",
       " 0.9458004140617133,\n",
       " 0.946908561087188,\n",
       " 0.9479554351715785,\n",
       " 0.9469694357826008]"
      ]
     },
     "execution_count": 315,
     "metadata": {},
     "output_type": "execute_result"
    }
   ],
   "source": [
    "CV_accuracy_score2"
   ]
  },
  {
   "cell_type": "code",
   "execution_count": 326,
   "id": "unable-marsh",
   "metadata": {},
   "outputs": [
    {
     "data": {
      "text/plain": [
       "<matplotlib.legend.Legend at 0x1acba1ff288>"
      ]
     },
     "execution_count": 326,
     "metadata": {},
     "output_type": "execute_result"
    },
    {
     "data": {
      "image/png": "[encoded data removed]",
      "text/plain": [
       "<Figure size 360x288 with 1 Axes>"
      ]
     },
     "metadata": {
      "needs_background": "light"
     },
     "output_type": "display_data"
    }
   ],
   "source": [
    "n_estimators = [100, 300, 500, 700, 900,1000]\n",
    "CV_accuracy_score = list(means[:6])\n",
    "CV_accuracy_score2 = list(means[6:])\n",
    "\n",
    "fig, ax = plt.subplots(1,1, figsize=(5,4))\n",
    "ax.plot(n_estimators, CV_accuracy_score, ls='-', marker='o', label=\"Max_Features: sqrt\")\n",
    "ax.plot(n_estimators, CV_accuracy_score2,color='r', ls='-', marker='o', label=\"Max_Features: log2\")\n",
    "ax.set_xlabel('Number of trees')\n",
    "ax.set_ylabel('CV Accuracy');\n",
    "plt.legend()"
   ]
  },
  {
   "cell_type": "markdown",
   "id": "communist-garbage",
   "metadata": {},
   "source": [
    "#### Fitting a Random Forest model using the parameters from CV on gray-scale input data without Sampling (Imbalanced Data set)"
   ]
  },
  {
   "cell_type": "code",
   "execution_count": 8,
   "id": "japanese-opera",
   "metadata": {},
   "outputs": [
    {
     "name": "stdout",
     "output_type": "stream",
     "text": [
      "Time Elapsed :  393.116464138031\n"
     ]
    }
   ],
   "source": [
    "start = time.time()\n",
    "model = RandomForestClassifier(n_estimators=500,max_features='sqrt')\n",
    "model.fit(X_train, y_train)\n",
    "end = time.time()\n",
    "print(\"Time Elapsed : \", end-start)"
   ]
  },
  {
   "cell_type": "markdown",
   "id": "improved-equipment",
   "metadata": {},
   "source": [
    "#### Train Accuracy"
   ]
  },
  {
   "cell_type": "code",
   "execution_count": 9,
   "id": "incomplete-industry",
   "metadata": {},
   "outputs": [
    {
     "name": "stdout",
     "output_type": "stream",
     "text": [
      "TRain accuracy for RF model is :  1.0\n"
     ]
    }
   ],
   "source": [
    "train_pred = model.predict(X_train)\n",
    "print(\"TRain accuracy for RF model is : \", accuracy_score(y_train,train_pred))\n",
    "#print(confusion_matrix(y_train, train_pred))\n",
    "#print(classification_report(y_train, train_pred))"
   ]
  },
  {
   "cell_type": "markdown",
   "id": "assigned-assumption",
   "metadata": {},
   "source": [
    "#### Validation Accuracy "
   ]
  },
  {
   "cell_type": "code",
   "execution_count": 10,
   "id": "compatible-protein",
   "metadata": {},
   "outputs": [
    {
     "name": "stdout",
     "output_type": "stream",
     "text": [
      "Validation accuracy for RF model is :  0.9887783728640653\n"
     ]
    }
   ],
   "source": [
    "val_pred = model.predict(X_test)\n",
    "print(\"Validation accuracy for RF model is : \", accuracy_score(y_test,val_pred))\n",
    "#print(confusion_matrix(y_test, val_pred))\n",
    "#print(classification_report(y_test, val_pred))"
   ]
  },
  {
   "cell_type": "markdown",
   "id": "hollow-starter",
   "metadata": {},
   "source": [
    "#### Test Accuracy"
   ]
  },
  {
   "cell_type": "code",
   "execution_count": 11,
   "id": "received-editor",
   "metadata": {},
   "outputs": [
    {
     "name": "stdout",
     "output_type": "stream",
     "text": [
      "Test accuracy for RF model is :  0.9266033254156769\n",
      "[[4120    2    0   11   26   11]\n",
      " [ 201 1253    0    7   35    4]\n",
      " [ 119    0  220    2    1   18]\n",
      " [ 199    2    0 1488   18   63]\n",
      " [  50    1    0    7 2729    3]\n",
      " [  72   14    0   36   25 1893]]\n",
      "              precision    recall  f1-score   support\n",
      "\n",
      "           1       0.87      0.99      0.92      4170\n",
      "           2       0.99      0.84      0.90      1500\n",
      "           3       1.00      0.61      0.76       360\n",
      "           4       0.96      0.84      0.90      1770\n",
      "           5       0.96      0.98      0.97      2790\n",
      "           6       0.95      0.93      0.94      2040\n",
      "\n",
      "    accuracy                           0.93     12630\n",
      "   macro avg       0.95      0.86      0.90     12630\n",
      "weighted avg       0.93      0.93      0.93     12630\n",
      "\n"
     ]
    }
   ],
   "source": [
    "test_pred = model.predict(test_data_scaled)\n",
    "print(\"Test accuracy for RF model is : \", accuracy_score(test_lbl_grp,test_pred))\n",
    "print(confusion_matrix(test_lbl_grp, test_pred))\n",
    "print(classification_report(test_lbl_grp, test_pred))"
   ]
  },
  {
   "cell_type": "code",
   "execution_count": null,
   "id": "unlikely-strap",
   "metadata": {},
   "outputs": [],
   "source": []
  },
  {
   "cell_type": "markdown",
   "id": "failing-matter",
   "metadata": {},
   "source": [
    "#### Fitting a Random Forest model using the parameters from CV on gray-scale input data with Random Down Sampling "
   ]
  },
  {
   "cell_type": "code",
   "execution_count": 12,
   "id": "hired-stomach",
   "metadata": {},
   "outputs": [
    {
     "name": "stdout",
     "output_type": "stream",
     "text": [
      "Time Elapsed :  52.25768971443176\n"
     ]
    }
   ],
   "source": [
    "start = time.time()\n",
    "model2 = RandomForestClassifier(n_estimators=500,max_features='sqrt')\n",
    "model2.fit(X_Sampled, y_Sampled)\n",
    "end = time.time()\n",
    "print(\"Time Elapsed : \", end-start)"
   ]
  },
  {
   "cell_type": "markdown",
   "id": "opened-tamil",
   "metadata": {},
   "source": [
    "#### Train Accuracy"
   ]
  },
  {
   "cell_type": "code",
   "execution_count": 13,
   "id": "roman-background",
   "metadata": {},
   "outputs": [
    {
     "name": "stdout",
     "output_type": "stream",
     "text": [
      "Training accuracy for RF model is :  1.0\n"
     ]
    }
   ],
   "source": [
    "train_pred = model2.predict(X_Sampled)\n",
    "print(\"Training accuracy for RF model is : \", accuracy_score(y_Sampled,train_pred))\n",
    "#print(confusion_matrix(y_train, train_pred))\n",
    "#print(classification_report(y_train, train_pred))"
   ]
  },
  {
   "cell_type": "markdown",
   "id": "incorrect-candy",
   "metadata": {},
   "source": [
    "#### Validation Accuracy"
   ]
  },
  {
   "cell_type": "code",
   "execution_count": 14,
   "id": "controversial-quick",
   "metadata": {},
   "outputs": [
    {
     "name": "stdout",
     "output_type": "stream",
     "text": [
      "Vaidation accuracy for RF model is :  0.9556235654169855\n"
     ]
    }
   ],
   "source": [
    "val_pred = model2.predict(X_test)\n",
    "print(\"Vaidation accuracy for RF model is : \", accuracy_score(y_test,val_pred))\n",
    "#print(confusion_matrix(y_test, val_pred))\n",
    "#print(classification_report(y_test, val_pred))"
   ]
  },
  {
   "cell_type": "markdown",
   "id": "southwest-parish",
   "metadata": {},
   "source": [
    "#### Test Accuracy"
   ]
  },
  {
   "cell_type": "code",
   "execution_count": 15,
   "id": "employed-bench",
   "metadata": {},
   "outputs": [
    {
     "name": "stdout",
     "output_type": "stream",
     "text": [
      "Test accuracy for RF model is :  0.9036421219319082\n",
      "[[3861   71   21  120   35   62]\n",
      " [  60 1345    1   33   52    9]\n",
      " [  59    7  275    7    0   12]\n",
      " [  98   60    2 1494   27   89]\n",
      " [  18   18    6   32 2673   43]\n",
      " [  52   52   21  120   30 1765]]\n",
      "              precision    recall  f1-score   support\n",
      "\n",
      "           1       0.93      0.93      0.93      4170\n",
      "           2       0.87      0.90      0.88      1500\n",
      "           3       0.84      0.76      0.80       360\n",
      "           4       0.83      0.84      0.84      1770\n",
      "           5       0.95      0.96      0.95      2790\n",
      "           6       0.89      0.87      0.88      2040\n",
      "\n",
      "    accuracy                           0.90     12630\n",
      "   macro avg       0.88      0.88      0.88     12630\n",
      "weighted avg       0.90      0.90      0.90     12630\n",
      "\n"
     ]
    }
   ],
   "source": [
    "test_pred = model2.predict(test_data_scaled)\n",
    "print(\"Test accuracy for RF model is : \", accuracy_score(test_lbl_grp,test_pred))\n",
    "print(confusion_matrix(test_lbl_grp, test_pred))\n",
    "print(classification_report(test_lbl_grp, test_pred))"
   ]
  },
  {
   "cell_type": "code",
   "execution_count": 16,
   "id": "organized-vitamin",
   "metadata": {},
   "outputs": [
    {
     "name": "stdout",
     "output_type": "stream",
     "text": [
      "Class  1  misclassifications\n",
      "(array([2, 3, 4, 5, 6]), array([ 71,  21, 120,  35,  62], dtype=int64))\n",
      "Class  2  misclassifications\n",
      "(array([1, 3, 4, 5, 6]), array([60,  1, 33, 52,  9], dtype=int64))\n",
      "Class  3  misclassifications\n",
      "(array([1, 2, 4, 6]), array([59,  7,  7, 12], dtype=int64))\n",
      "Class  4  misclassifications\n",
      "(array([1, 2, 3, 5, 6]), array([98, 60,  2, 27, 89], dtype=int64))\n",
      "Class  5  misclassifications\n",
      "(array([1, 2, 3, 4, 6]), array([18, 18,  6, 32, 43], dtype=int64))\n",
      "Class  6  misclassifications\n",
      "(array([1, 2, 3, 4, 5]), array([ 52,  52,  21, 120,  30], dtype=int64))\n"
     ]
    }
   ],
   "source": [
    "### Misclassified samples in Class 1 (Speed limit)\n",
    "\n",
    "for cls in [1,2,3,4,5,6]:\n",
    "    print(\"Class \", cls, \" misclassifications\")\n",
    "    class_ind = np.where(test_lbl_grp==cls)[0]\n",
    "\n",
    "    wrong_ind = []\n",
    "    for ind in class_ind:\n",
    "        if test_pred[ind] != cls:\n",
    "            wrong_ind.append(ind)\n",
    "    print(np.unique(test_pred[wrong_ind], return_counts=True))"
   ]
  },
  {
   "cell_type": "code",
   "execution_count": 423,
   "id": "specified-democracy",
   "metadata": {},
   "outputs": [
    {
     "data": {
      "text/plain": [
       "<matplotlib.image.AxesImage at 0x1ac92e6b388>"
      ]
     },
     "execution_count": 423,
     "metadata": {},
     "output_type": "execute_result"
    },
    {
     "data": {
      "image/png": "[encoded data removed]",
      "text/plain": [
       "<Figure size 432x288 with 1 Axes>"
      ]
     },
     "metadata": {
      "needs_background": "light"
     },
     "output_type": "display_data"
    }
   ],
   "source": [
    "plt.imshow(test_data_scaled[121,:].reshape(30,30))"
   ]
  },
  {
   "cell_type": "markdown",
   "id": "civilian-twelve",
   "metadata": {},
   "source": [
    "#### ROC / AUC"
   ]
  },
  {
   "cell_type": "code",
   "execution_count": 17,
   "id": "chief-interface",
   "metadata": {},
   "outputs": [],
   "source": [
    "y_score = model2.predict_proba(test_data_scaled)\n",
    "\n",
    "# structures\n",
    "fpr = dict()\n",
    "tpr = dict()\n",
    "roc_auc = dict()\n",
    "\n",
    "for i in range(0,6):\n",
    "    fpr[i], tpr[i], _ = roc_curve((test_lbl_grp==i+1), y_score[:, i])\n",
    "    roc_auc[i] = auc(fpr[i], tpr[i])"
   ]
  },
  {
   "cell_type": "code",
   "execution_count": 18,
   "id": "innocent-pearl",
   "metadata": {},
   "outputs": [
    {
     "data": {
      "image/png": "[encoded data removed]",
      "text/plain": [
       "<Figure size 432x288 with 1 Axes>"
      ]
     },
     "metadata": {
      "needs_background": "light"
     },
     "output_type": "display_data"
    },
    {
     "data": {
      "image/png": "[encoded data removed]",
      "text/plain": [
       "<Figure size 432x288 with 1 Axes>"
      ]
     },
     "metadata": {
      "needs_background": "light"
     },
     "output_type": "display_data"
    },
    {
     "data": {
      "image/png": "[encoded data removed]",
      "text/plain": [
       "<Figure size 432x288 with 1 Axes>"
      ]
     },
     "metadata": {
      "needs_background": "light"
     },
     "output_type": "display_data"
    },
    {
     "data": {
      "image/png": "[encoded data removed]",
      "text/plain": [
       "<Figure size 432x288 with 1 Axes>"
      ]
     },
     "metadata": {
      "needs_background": "light"
     },
     "output_type": "display_data"
    },
    {
     "data": {
      "image/png": "[encoded data removed]",
      "text/plain": [
       "<Figure size 432x288 with 1 Axes>"
      ]
     },
     "metadata": {
      "needs_background": "light"
     },
     "output_type": "display_data"
    },
    {
     "data": {
      "image/png": "[encoded data removed]",
      "text/plain": [
       "<Figure size 432x288 with 1 Axes>"
      ]
     },
     "metadata": {
      "needs_background": "light"
     },
     "output_type": "display_data"
    }
   ],
   "source": [
    "for i in range(0,6):\n",
    "    plt.figure()\n",
    "    plt.plot(fpr[i], tpr[i], label='ROC curve (area = %0.2f)' % roc_auc[i])\n",
    "    plt.plot([0, 1], [0, 1], 'k--')\n",
    "    plt.xlim([0.0, 1.0])\n",
    "    plt.ylim([0.0, 1.05])\n",
    "    plt.xlabel('False Positive Rate')\n",
    "    plt.ylabel('True Positive Rate')\n",
    "    plt.title('Receiver operating characteristic example')\n",
    "    plt.legend(loc=\"lower right\")\n",
    "    plt.show()"
   ]
  },
  {
   "cell_type": "markdown",
   "id": "characteristic-logging",
   "metadata": {},
   "source": [
    "#### Fitting Random forest model including all 43 classes like the original data"
   ]
  },
  {
   "cell_type": "code",
   "execution_count": 19,
   "id": "periodic-system",
   "metadata": {},
   "outputs": [],
   "source": [
    "## Splitting into test/validation\n",
    "X_train, X_test, y_train, y_test = train_test_split(train_data_scaled,train_labels, test_size=0.2, random_state = 24)\n",
    "\n",
    "rus = RandomUnderSampler(random_state=0)\n",
    "X_Sampled, y_Sampled = rus.fit_resample(X_train, y_train)"
   ]
  },
  {
   "cell_type": "code",
   "execution_count": 20,
   "id": "external-opposition",
   "metadata": {},
   "outputs": [
    {
     "data": {
      "text/plain": [
       "'\\nTAKES VERY LONG SO NOT RUNNING THIS\\n\\nstart = time.time()\\n# define models and parameters\\nmodel = RandomForestClassifier()\\nn_estimators = [100, 300, 500, 700, 900]\\nmax_features = [\\'sqrt\\']\\nmax_depth = [10, 20, 30, 40, 50, 60, 70, 80, 90, 100, None]\\nmin_samples_split = [10,20,30,40,50]\\n# define grid search\\ngrid = dict(n_estimators=n_estimators,max_features=max_features,max_depth=max_depth,min_samples_split=min_samples_split)\\n#cv = RepeatedStratifiedKFold(n_splits=5, random_state=1)\\ngrid_search = GridSearchCV(estimator=model, param_grid=grid, n_jobs=-1, cv=5, scoring=\\'accuracy\\',error_score=0)\\ngrid_result = grid_search.fit(X_train, y_train)\\n# summarize results\\nprint(\"Best: %f using %s\" % (grid_result.best_score_, grid_result.best_params_))\\nmeans = grid_result.cv_results_[\\'mean_test_score\\']\\nstds = grid_result.cv_results_[\\'std_test_score\\']\\nparams = grid_result.cv_results_[\\'params\\']\\nfor mean, stdev, param in zip(means, stds, params):\\n    print(\"%f (%f) with: %r\" % (mean, stdev, param))\\n\\nend = time.time()\\nprint(\"Time Elapsed : \", end-start)\\n\\n'"
      ]
     },
     "execution_count": 20,
     "metadata": {},
     "output_type": "execute_result"
    }
   ],
   "source": [
    "'''\n",
    "TAKES VERY LONG SO NOT RUNNING THIS\n",
    "\n",
    "start = time.time()\n",
    "# define models and parameters\n",
    "model = RandomForestClassifier()\n",
    "n_estimators = [100, 300, 500, 700, 900]\n",
    "max_features = ['sqrt']\n",
    "max_depth = [10, 20, 30, 40, 50, 60, 70, 80, 90, 100, None]\n",
    "min_samples_split = [10,20,30,40,50]\n",
    "# define grid search\n",
    "grid = dict(n_estimators=n_estimators,max_features=max_features,max_depth=max_depth,min_samples_split=min_samples_split)\n",
    "#cv = RepeatedStratifiedKFold(n_splits=5, random_state=1)\n",
    "grid_search = GridSearchCV(estimator=model, param_grid=grid, n_jobs=-1, cv=5, scoring='accuracy',error_score=0)\n",
    "grid_result = grid_search.fit(X_train, y_train)\n",
    "# summarize results\n",
    "print(\"Best: %f using %s\" % (grid_result.best_score_, grid_result.best_params_))\n",
    "means = grid_result.cv_results_['mean_test_score']\n",
    "stds = grid_result.cv_results_['std_test_score']\n",
    "params = grid_result.cv_results_['params']\n",
    "for mean, stdev, param in zip(means, stds, params):\n",
    "    print(\"%f (%f) with: %r\" % (mean, stdev, param))\n",
    "\n",
    "end = time.time()\n",
    "print(\"Time Elapsed : \", end-start)\n",
    "\n",
    "'''"
   ]
  },
  {
   "cell_type": "markdown",
   "id": "excess-norman",
   "metadata": {},
   "source": [
    "#### Fitting a Random forest model with all data (Not Sampled) for 43 classes"
   ]
  },
  {
   "cell_type": "code",
   "execution_count": 21,
   "id": "velvet-worst",
   "metadata": {},
   "outputs": [
    {
     "name": "stdout",
     "output_type": "stream",
     "text": [
      "Time Elapsed :  738.096113204956\n"
     ]
    }
   ],
   "source": [
    "start = time.time()\n",
    "rf_model = RandomForestClassifier(n_estimators=700,max_features='sqrt')\n",
    "rf_model.fit(X_train, y_train)\n",
    "end = time.time()\n",
    "print(\"Time Elapsed : \", end-start)"
   ]
  },
  {
   "cell_type": "code",
   "execution_count": 22,
   "id": "finite-eight",
   "metadata": {},
   "outputs": [
    {
     "name": "stdout",
     "output_type": "stream",
     "text": [
      "Vaidation accuracy for RF model is :  0.9809997449630197\n"
     ]
    }
   ],
   "source": [
    "val_pred = rf_model.predict(X_test)\n",
    "print(\"Vaidation accuracy for RF model is : \", accuracy_score(y_test,val_pred))\n",
    "#print(confusion_matrix(y_test, val_pred))\n",
    "#print(classification_report(y_test, val_pred))"
   ]
  },
  {
   "cell_type": "code",
   "execution_count": 23,
   "id": "hydraulic-disease",
   "metadata": {},
   "outputs": [
    {
     "name": "stdout",
     "output_type": "stream",
     "text": [
      "Test accuracy for RF model is :  0.7712589073634204\n",
      "[[ 14  30   2 ...   0   0   0]\n",
      " [  0 614  45 ...   0   0   0]\n",
      " [  0  35 602 ...   0   0   0]\n",
      " ...\n",
      " [  0   1   0 ...  56   0   0]\n",
      " [  0   0   0 ...   0  36   0]\n",
      " [  0   0   0 ...   0  25  37]]\n",
      "              precision    recall  f1-score   support\n",
      "\n",
      "           0       1.00      0.23      0.38        60\n",
      "           1       0.73      0.85      0.79       720\n",
      "           2       0.62      0.80      0.70       750\n",
      "           3       0.65      0.66      0.65       450\n",
      "           4       0.74      0.78      0.76       660\n",
      "           5       0.58      0.63      0.60       630\n",
      "           6       0.75      0.51      0.61       150\n",
      "           7       0.66      0.74      0.70       450\n",
      "           8       0.59      0.45      0.51       450\n",
      "           9       0.92      0.84      0.88       480\n",
      "          10       0.84      0.93      0.88       660\n",
      "          11       0.85      0.95      0.90       420\n",
      "          12       0.83      0.91      0.87       690\n",
      "          13       0.91      0.99      0.95       720\n",
      "          14       0.94      0.98      0.96       270\n",
      "          15       0.92      0.86      0.89       210\n",
      "          16       1.00      0.93      0.97       150\n",
      "          17       0.97      0.83      0.89       360\n",
      "          18       0.68      0.62      0.65       390\n",
      "          19       0.75      0.40      0.52        60\n",
      "          20       0.38      0.51      0.44        90\n",
      "          21       1.00      0.28      0.43        90\n",
      "          22       0.97      0.72      0.83       120\n",
      "          23       0.73      0.47      0.57       150\n",
      "          24       0.85      0.39      0.53        90\n",
      "          25       0.77      0.94      0.85       480\n",
      "          26       0.59      0.65      0.62       180\n",
      "          27       0.00      0.00      0.00        60\n",
      "          28       0.68      0.70      0.69       150\n",
      "          29       0.82      0.47      0.60        90\n",
      "          30       0.52      0.30      0.38       150\n",
      "          31       0.61      0.74      0.67       270\n",
      "          32       0.41      0.18      0.25        60\n",
      "          33       0.88      0.77      0.82       210\n",
      "          34       0.99      0.95      0.97       120\n",
      "          35       0.97      0.75      0.84       390\n",
      "          36       0.96      0.63      0.76       120\n",
      "          37       1.00      0.77      0.87        60\n",
      "          38       0.88      0.95      0.91       690\n",
      "          39       1.00      0.67      0.80        90\n",
      "          40       0.95      0.62      0.75        90\n",
      "          41       0.46      0.60      0.52        60\n",
      "          42       0.88      0.41      0.56        90\n",
      "\n",
      "    accuracy                           0.77     12630\n",
      "   macro avg       0.77      0.66      0.69     12630\n",
      "weighted avg       0.78      0.77      0.76     12630\n",
      "\n"
     ]
    }
   ],
   "source": [
    "test_pred = rf_model.predict(test_data_scaled)\n",
    "print(\"Test accuracy for RF model is : \", accuracy_score(test_labels,test_pred))\n",
    "print(confusion_matrix(test_labels, test_pred))\n",
    "print(classification_report(test_labels, test_pred))"
   ]
  },
  {
   "cell_type": "markdown",
   "id": "excessive-spelling",
   "metadata": {},
   "source": [
    "### END"
   ]
  },
  {
   "cell_type": "code",
   "execution_count": null,
   "id": "analyzed-closing",
   "metadata": {},
   "outputs": [],
   "source": []
  }
 ],
 "metadata": {
  "kernelspec": {
   "display_name": "Python 3",
   "language": "python",
   "name": "python3"
  },
  "language_info": {
   "codemirror_mode": {
    "name": "ipython",
    "version": 3
   },
   "file_extension": ".py",
   "mimetype": "text/x-python",
   "name": "python",
   "nbconvert_exporter": "python",
   "pygments_lexer": "ipython3",
   "version": "3.7.8"
  }
 },
 "nbformat": 4,
 "nbformat_minor": 5
}
