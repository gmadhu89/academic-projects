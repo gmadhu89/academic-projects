{
 "cells": [
  {
   "cell_type": "code",
   "execution_count": 1,
   "metadata": {},
   "outputs": [],
   "source": [
    "import numpy as np\n",
    "import math\n",
    "import matplotlib.pyplot as plt\n",
    "import scipy.io as spio\n",
    "import scipy.sparse.linalg as ll\n",
    "import sklearn.preprocessing as skpp"
   ]
  },
  {
   "cell_type": "code",
   "execution_count": 2,
   "metadata": {},
   "outputs": [],
   "source": [
    "# show image function\n",
    "def show_image(centroids,H,W=None):\n",
    "    if W == None: W = H\n",
    "    N = centroids.shape[1]/(H*W)\n",
    "    assert N == 3 or N == 1 # color and grey images\n",
    "    \n",
    "    K = centroids.shape[0]\n",
    "    COLS = round(math.sqrt(K))\n",
    "    ROWS = math.ceil(K/COLS)\n",
    "    \n",
    "    N = int(N)\n",
    "\n",
    "    image = np.ones((ROWS*(H+1), COLS*(W+1), N))*100\n",
    "    \n",
    "    for i in range(centroids.shape[0]):\n",
    "        r = math.floor(i / COLS)\n",
    "        c = (i-1) % COLS\n",
    "\n",
    "        image[(r*(H+1)+1):((r+1)*(H+1)),(c*(W+1)+1):((c+1)*(W+1)),:] = centroids[i,:W*H*N+1].reshape((H,W,N))\n",
    "        \n",
    "    plt.imshow(image[:,:,0])\n",
    "    plt.show()"
   ]
  },
  {
   "cell_type": "code",
   "execution_count": 3,
   "metadata": {},
   "outputs": [
    {
     "name": "stdout",
     "output_type": "stream",
     "text": [
      "0\n",
      "1\n",
      "2\n",
      "3\n",
      "4\n",
      "5\n",
      "6\n",
      "7\n",
      "8\n",
      "9\n",
      "10\n",
      "11\n",
      "12\n",
      "13\n",
      "14\n",
      "15\n",
      "16\n",
      "17\n",
      "18\n",
      "19\n",
      "20\n",
      "21\n",
      "22\n",
      "23\n",
      "24\n",
      "25\n",
      "26\n",
      "27\n",
      "28\n",
      "29\n",
      "30\n",
      "31\n",
      "32\n",
      "33\n",
      "34\n",
      "35\n"
     ]
    },
    {
     "data": {
      "image/png": "[encoded data removed]",
      "text/plain": [
       "<Figure size 432x288 with 1 Axes>"
      ]
     },
     "metadata": {
      "needs_background": "light"
     },
     "output_type": "display_data"
    }
   ],
   "source": [
    "##########################\n",
    "# PCA_leaf main function #\n",
    "##########################\n",
    "    \n",
    "leaf = spio.loadmat('data/leaf.mat',squeeze_me=True)['M']\n",
    "\n",
    "# dataset description\n",
    "#The provided data comprises the following shape (attributes 3 to 9) and texture (attributes 10\n",
    "#to 16) features:\n",
    "#1. Class (Species)\n",
    "#2. Specimen Number\n",
    "#3. Eccentricity\n",
    "#4. Aspect Ratio\n",
    "#5. Elongation\n",
    "#6. Solidity\n",
    "#7. Stochastic Convexity\n",
    "#8. Isoperimetric Factor\n",
    "#9. Maximal Indentation Depth\n",
    "#10. Lobedness\n",
    "#11. Average Intensity\n",
    "#12. Average Contrast\n",
    "#13. Smoothness\n",
    "#14. Third moment\n",
    "#15. Uniformity\n",
    "#16. Entropy\n",
    "\n",
    "# extract attributes from raw data\n",
    "Anew = leaf[:,2:17]\n",
    "m,n = Anew.shape\n",
    "\n",
    "# create indicator matrix\n",
    "Inew = leaf[:,0]\n",
    "\n",
    "# In this case, we normalize the data because features have very different ranges\n",
    "stdA = np.std(Anew,axis = 0)\n",
    "stdA = skpp.normalize(stdA.reshape(1,-1)) # the normalize is different from MATLAB's\n",
    "Anew = Anew @ np.diag(np.ones(stdA.shape[1])/stdA[0])\n",
    "Anew = Anew.T\n",
    "# PCA\n",
    "mu = np.mean(Anew,axis = 1)\n",
    "xc = Anew - mu[:,None]\n",
    "\n",
    "C = np.dot(xc,xc.T)/m\n",
    "\n",
    "K = 2\n",
    "S,W = ll.eigs(C,k = K)\n",
    "S = S.real\n",
    "W = W.real\n",
    "\n",
    "dim1 = np.dot(W[:,0].T,xc)/math.sqrt(S[0]) # extract 1st eigenvalues\n",
    "dim2 = np.dot(W[:,1].T,xc)/math.sqrt(S[1]) # extract 2nd eigenvalue\n",
    "\n",
    "color_string = 'bgrmck'\n",
    "marker_string = '.+*o'\n",
    "leaf_fig = plt.figure()\n",
    "for i in range(int(max(Inew))):\n",
    "    print(i)\n",
    "    color = color_string[i % 5]\n",
    "    marker = marker_string[i % 4]\n",
    "    m = color + marker\n",
    "    leaf_fig.gca().plot(dim1[Inew == i],dim2[Inew == i],m)\n",
    "\n",
    "plt.show()\n",
    "leaf_fig.savefig('leaf2.png')"
   ]
  },
  {
   "cell_type": "markdown",
   "metadata": {},
   "source": [
    "#### Code reference : From Computational Data Analytics coursework"
   ]
  },
  {
   "cell_type": "code",
   "execution_count": null,
   "metadata": {},
   "outputs": [],
   "source": []
  }
 ],
 "metadata": {
  "hide_input": false,
  "kernelspec": {
   "display_name": "Python 3",
   "language": "python",
   "name": "python3"
  },
  "language_info": {
   "codemirror_mode": {
    "name": "ipython",
    "version": 3
   },
   "file_extension": ".py",
   "mimetype": "text/x-python",
   "name": "python",
   "nbconvert_exporter": "python",
   "pygments_lexer": "ipython3",
   "version": "3.7.8"
  }
 },
 "nbformat": 4,
 "nbformat_minor": 4
}
